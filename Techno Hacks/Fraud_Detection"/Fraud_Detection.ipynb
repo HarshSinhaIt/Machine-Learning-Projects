{
  "cells": [
    {
      "cell_type": "code",
      "source": [
        "!pip install scikit-learn\n",
        "from sklearn import neighbors"
      ],
      "metadata": {
        "colab": {
          "base_uri": "https://localhost:8080/"
        },
        "id": "LmV3wpQhqRIc",
        "outputId": "6a7d5265-37ed-4987-d5b2-b34cbcf093bf"
      },
      "id": "LmV3wpQhqRIc",
      "execution_count": 1,
      "outputs": [
        {
          "output_type": "stream",
          "name": "stdout",
          "text": [
            "Requirement already satisfied: scikit-learn in /usr/local/lib/python3.10/dist-packages (1.1.3)\n",
            "Requirement already satisfied: numpy>=1.17.3 in /usr/local/lib/python3.10/dist-packages (from scikit-learn) (1.25.2)\n",
            "Requirement already satisfied: scipy>=1.3.2 in /usr/local/lib/python3.10/dist-packages (from scikit-learn) (1.11.4)\n",
            "Requirement already satisfied: joblib>=1.0.0 in /usr/local/lib/python3.10/dist-packages (from scikit-learn) (1.3.2)\n",
            "Requirement already satisfied: threadpoolctl>=2.0.0 in /usr/local/lib/python3.10/dist-packages (from scikit-learn) (3.4.0)\n"
          ]
        }
      ]
    },
    {
      "cell_type": "code",
      "execution_count": 2,
      "id": "51300808",
      "metadata": {
        "execution": {
          "iopub.execute_input": "2024-04-04T03:14:30.980084Z",
          "iopub.status.busy": "2024-04-04T03:14:30.979113Z",
          "iopub.status.idle": "2024-04-04T03:14:32.625658Z",
          "shell.execute_reply": "2024-04-04T03:14:32.624497Z"
        },
        "papermill": {
          "duration": 1.660316,
          "end_time": "2024-04-04T03:14:32.628408",
          "exception": false,
          "start_time": "2024-04-04T03:14:30.968092",
          "status": "completed"
        },
        "tags": [],
        "id": "51300808"
      },
      "outputs": [],
      "source": [
        "import seaborn as sns\n",
        "import pandas as pd\n",
        "import matplotlib.pyplot as plt\n",
        "from sklearn.model_selection import train_test_split\n",
        "from sklearn.linear_model import LogisticRegression\n",
        "from sklearn. metrics import accuracy_score\n"
      ]
    },
    {
      "cell_type": "code",
      "execution_count": 3,
      "id": "99badeba",
      "metadata": {
        "execution": {
          "iopub.execute_input": "2024-04-04T03:14:32.650522Z",
          "iopub.status.busy": "2024-04-04T03:14:32.650092Z",
          "iopub.status.idle": "2024-04-04T03:14:36.642856Z",
          "shell.execute_reply": "2024-04-04T03:14:36.641745Z"
        },
        "papermill": {
          "duration": 4.007471,
          "end_time": "2024-04-04T03:14:36.646140",
          "exception": false,
          "start_time": "2024-04-04T03:14:32.638669",
          "status": "completed"
        },
        "tags": [],
        "id": "99badeba"
      },
      "outputs": [],
      "source": [
        "df = pd.read_csv(\"creditcard.csv\")"
      ]
    },
    {
      "cell_type": "code",
      "execution_count": 4,
      "id": "c5294402",
      "metadata": {
        "execution": {
          "iopub.execute_input": "2024-04-04T03:14:36.670735Z",
          "iopub.status.busy": "2024-04-04T03:14:36.669743Z",
          "iopub.status.idle": "2024-04-04T03:14:36.701626Z",
          "shell.execute_reply": "2024-04-04T03:14:36.700544Z"
        },
        "papermill": {
          "duration": 0.045773,
          "end_time": "2024-04-04T03:14:36.703638",
          "exception": false,
          "start_time": "2024-04-04T03:14:36.657865",
          "status": "completed"
        },
        "tags": [],
        "id": "c5294402",
        "colab": {
          "base_uri": "https://localhost:8080/",
          "height": 255
        },
        "outputId": "7127c07c-219e-43a9-a6c9-61acb5a2a448"
      },
      "outputs": [
        {
          "output_type": "execute_result",
          "data": {
            "text/plain": [
              "   Time        V1        V2        V3        V4        V5        V6        V7  \\\n",
              "0     0 -1.359807 -0.072781  2.536347  1.378155 -0.338321  0.462388  0.239599   \n",
              "1     0  1.191857  0.266151  0.166480  0.448154  0.060018 -0.082361 -0.078803   \n",
              "2     1 -1.358354 -1.340163  1.773209  0.379780 -0.503198  1.800499  0.791461   \n",
              "3     1 -0.966272 -0.185226  1.792993 -0.863291 -0.010309  1.247203  0.237609   \n",
              "4     2 -1.158233  0.877737  1.548718  0.403034 -0.407193  0.095921  0.592941   \n",
              "\n",
              "         V8        V9  ...       V21       V22       V23       V24       V25  \\\n",
              "0  0.098698  0.363787  ... -0.018307  0.277838 -0.110474  0.066928  0.128539   \n",
              "1  0.085102 -0.255425  ... -0.225775 -0.638672  0.101288 -0.339846  0.167170   \n",
              "2  0.247676 -1.514654  ...  0.247998  0.771679  0.909412 -0.689281 -0.327642   \n",
              "3  0.377436 -1.387024  ... -0.108300  0.005274 -0.190321 -1.175575  0.647376   \n",
              "4 -0.270533  0.817739  ... -0.009431  0.798278 -0.137458  0.141267 -0.206010   \n",
              "\n",
              "        V26       V27       V28  Amount  Class  \n",
              "0 -0.189115  0.133558 -0.021053  149.62    0.0  \n",
              "1  0.125895 -0.008983  0.014724    2.69    0.0  \n",
              "2 -0.139097 -0.055353 -0.059752  378.66    0.0  \n",
              "3 -0.221929  0.062723  0.061458  123.50    0.0  \n",
              "4  0.502292  0.219422  0.215153   69.99    0.0  \n",
              "\n",
              "[5 rows x 31 columns]"
            ],
            "text/html": [
              "\n",
              "  <div id=\"df-7520a1ba-bc39-4743-a61b-1ad0a1119c3b\" class=\"colab-df-container\">\n",
              "    <div>\n",
              "<style scoped>\n",
              "    .dataframe tbody tr th:only-of-type {\n",
              "        vertical-align: middle;\n",
              "    }\n",
              "\n",
              "    .dataframe tbody tr th {\n",
              "        vertical-align: top;\n",
              "    }\n",
              "\n",
              "    .dataframe thead th {\n",
              "        text-align: right;\n",
              "    }\n",
              "</style>\n",
              "<table border=\"1\" class=\"dataframe\">\n",
              "  <thead>\n",
              "    <tr style=\"text-align: right;\">\n",
              "      <th></th>\n",
              "      <th>Time</th>\n",
              "      <th>V1</th>\n",
              "      <th>V2</th>\n",
              "      <th>V3</th>\n",
              "      <th>V4</th>\n",
              "      <th>V5</th>\n",
              "      <th>V6</th>\n",
              "      <th>V7</th>\n",
              "      <th>V8</th>\n",
              "      <th>V9</th>\n",
              "      <th>...</th>\n",
              "      <th>V21</th>\n",
              "      <th>V22</th>\n",
              "      <th>V23</th>\n",
              "      <th>V24</th>\n",
              "      <th>V25</th>\n",
              "      <th>V26</th>\n",
              "      <th>V27</th>\n",
              "      <th>V28</th>\n",
              "      <th>Amount</th>\n",
              "      <th>Class</th>\n",
              "    </tr>\n",
              "  </thead>\n",
              "  <tbody>\n",
              "    <tr>\n",
              "      <th>0</th>\n",
              "      <td>0</td>\n",
              "      <td>-1.359807</td>\n",
              "      <td>-0.072781</td>\n",
              "      <td>2.536347</td>\n",
              "      <td>1.378155</td>\n",
              "      <td>-0.338321</td>\n",
              "      <td>0.462388</td>\n",
              "      <td>0.239599</td>\n",
              "      <td>0.098698</td>\n",
              "      <td>0.363787</td>\n",
              "      <td>...</td>\n",
              "      <td>-0.018307</td>\n",
              "      <td>0.277838</td>\n",
              "      <td>-0.110474</td>\n",
              "      <td>0.066928</td>\n",
              "      <td>0.128539</td>\n",
              "      <td>-0.189115</td>\n",
              "      <td>0.133558</td>\n",
              "      <td>-0.021053</td>\n",
              "      <td>149.62</td>\n",
              "      <td>0.0</td>\n",
              "    </tr>\n",
              "    <tr>\n",
              "      <th>1</th>\n",
              "      <td>0</td>\n",
              "      <td>1.191857</td>\n",
              "      <td>0.266151</td>\n",
              "      <td>0.166480</td>\n",
              "      <td>0.448154</td>\n",
              "      <td>0.060018</td>\n",
              "      <td>-0.082361</td>\n",
              "      <td>-0.078803</td>\n",
              "      <td>0.085102</td>\n",
              "      <td>-0.255425</td>\n",
              "      <td>...</td>\n",
              "      <td>-0.225775</td>\n",
              "      <td>-0.638672</td>\n",
              "      <td>0.101288</td>\n",
              "      <td>-0.339846</td>\n",
              "      <td>0.167170</td>\n",
              "      <td>0.125895</td>\n",
              "      <td>-0.008983</td>\n",
              "      <td>0.014724</td>\n",
              "      <td>2.69</td>\n",
              "      <td>0.0</td>\n",
              "    </tr>\n",
              "    <tr>\n",
              "      <th>2</th>\n",
              "      <td>1</td>\n",
              "      <td>-1.358354</td>\n",
              "      <td>-1.340163</td>\n",
              "      <td>1.773209</td>\n",
              "      <td>0.379780</td>\n",
              "      <td>-0.503198</td>\n",
              "      <td>1.800499</td>\n",
              "      <td>0.791461</td>\n",
              "      <td>0.247676</td>\n",
              "      <td>-1.514654</td>\n",
              "      <td>...</td>\n",
              "      <td>0.247998</td>\n",
              "      <td>0.771679</td>\n",
              "      <td>0.909412</td>\n",
              "      <td>-0.689281</td>\n",
              "      <td>-0.327642</td>\n",
              "      <td>-0.139097</td>\n",
              "      <td>-0.055353</td>\n",
              "      <td>-0.059752</td>\n",
              "      <td>378.66</td>\n",
              "      <td>0.0</td>\n",
              "    </tr>\n",
              "    <tr>\n",
              "      <th>3</th>\n",
              "      <td>1</td>\n",
              "      <td>-0.966272</td>\n",
              "      <td>-0.185226</td>\n",
              "      <td>1.792993</td>\n",
              "      <td>-0.863291</td>\n",
              "      <td>-0.010309</td>\n",
              "      <td>1.247203</td>\n",
              "      <td>0.237609</td>\n",
              "      <td>0.377436</td>\n",
              "      <td>-1.387024</td>\n",
              "      <td>...</td>\n",
              "      <td>-0.108300</td>\n",
              "      <td>0.005274</td>\n",
              "      <td>-0.190321</td>\n",
              "      <td>-1.175575</td>\n",
              "      <td>0.647376</td>\n",
              "      <td>-0.221929</td>\n",
              "      <td>0.062723</td>\n",
              "      <td>0.061458</td>\n",
              "      <td>123.50</td>\n",
              "      <td>0.0</td>\n",
              "    </tr>\n",
              "    <tr>\n",
              "      <th>4</th>\n",
              "      <td>2</td>\n",
              "      <td>-1.158233</td>\n",
              "      <td>0.877737</td>\n",
              "      <td>1.548718</td>\n",
              "      <td>0.403034</td>\n",
              "      <td>-0.407193</td>\n",
              "      <td>0.095921</td>\n",
              "      <td>0.592941</td>\n",
              "      <td>-0.270533</td>\n",
              "      <td>0.817739</td>\n",
              "      <td>...</td>\n",
              "      <td>-0.009431</td>\n",
              "      <td>0.798278</td>\n",
              "      <td>-0.137458</td>\n",
              "      <td>0.141267</td>\n",
              "      <td>-0.206010</td>\n",
              "      <td>0.502292</td>\n",
              "      <td>0.219422</td>\n",
              "      <td>0.215153</td>\n",
              "      <td>69.99</td>\n",
              "      <td>0.0</td>\n",
              "    </tr>\n",
              "  </tbody>\n",
              "</table>\n",
              "<p>5 rows × 31 columns</p>\n",
              "</div>\n",
              "    <div class=\"colab-df-buttons\">\n",
              "\n",
              "  <div class=\"colab-df-container\">\n",
              "    <button class=\"colab-df-convert\" onclick=\"convertToInteractive('df-7520a1ba-bc39-4743-a61b-1ad0a1119c3b')\"\n",
              "            title=\"Convert this dataframe to an interactive table.\"\n",
              "            style=\"display:none;\">\n",
              "\n",
              "  <svg xmlns=\"http://www.w3.org/2000/svg\" height=\"24px\" viewBox=\"0 -960 960 960\">\n",
              "    <path d=\"M120-120v-720h720v720H120Zm60-500h600v-160H180v160Zm220 220h160v-160H400v160Zm0 220h160v-160H400v160ZM180-400h160v-160H180v160Zm440 0h160v-160H620v160ZM180-180h160v-160H180v160Zm440 0h160v-160H620v160Z\"/>\n",
              "  </svg>\n",
              "    </button>\n",
              "\n",
              "  <style>\n",
              "    .colab-df-container {\n",
              "      display:flex;\n",
              "      gap: 12px;\n",
              "    }\n",
              "\n",
              "    .colab-df-convert {\n",
              "      background-color: #E8F0FE;\n",
              "      border: none;\n",
              "      border-radius: 50%;\n",
              "      cursor: pointer;\n",
              "      display: none;\n",
              "      fill: #1967D2;\n",
              "      height: 32px;\n",
              "      padding: 0 0 0 0;\n",
              "      width: 32px;\n",
              "    }\n",
              "\n",
              "    .colab-df-convert:hover {\n",
              "      background-color: #E2EBFA;\n",
              "      box-shadow: 0px 1px 2px rgba(60, 64, 67, 0.3), 0px 1px 3px 1px rgba(60, 64, 67, 0.15);\n",
              "      fill: #174EA6;\n",
              "    }\n",
              "\n",
              "    .colab-df-buttons div {\n",
              "      margin-bottom: 4px;\n",
              "    }\n",
              "\n",
              "    [theme=dark] .colab-df-convert {\n",
              "      background-color: #3B4455;\n",
              "      fill: #D2E3FC;\n",
              "    }\n",
              "\n",
              "    [theme=dark] .colab-df-convert:hover {\n",
              "      background-color: #434B5C;\n",
              "      box-shadow: 0px 1px 3px 1px rgba(0, 0, 0, 0.15);\n",
              "      filter: drop-shadow(0px 1px 2px rgba(0, 0, 0, 0.3));\n",
              "      fill: #FFFFFF;\n",
              "    }\n",
              "  </style>\n",
              "\n",
              "    <script>\n",
              "      const buttonEl =\n",
              "        document.querySelector('#df-7520a1ba-bc39-4743-a61b-1ad0a1119c3b button.colab-df-convert');\n",
              "      buttonEl.style.display =\n",
              "        google.colab.kernel.accessAllowed ? 'block' : 'none';\n",
              "\n",
              "      async function convertToInteractive(key) {\n",
              "        const element = document.querySelector('#df-7520a1ba-bc39-4743-a61b-1ad0a1119c3b');\n",
              "        const dataTable =\n",
              "          await google.colab.kernel.invokeFunction('convertToInteractive',\n",
              "                                                    [key], {});\n",
              "        if (!dataTable) return;\n",
              "\n",
              "        const docLinkHtml = 'Like what you see? Visit the ' +\n",
              "          '<a target=\"_blank\" href=https://colab.research.google.com/notebooks/data_table.ipynb>data table notebook</a>'\n",
              "          + ' to learn more about interactive tables.';\n",
              "        element.innerHTML = '';\n",
              "        dataTable['output_type'] = 'display_data';\n",
              "        await google.colab.output.renderOutput(dataTable, element);\n",
              "        const docLink = document.createElement('div');\n",
              "        docLink.innerHTML = docLinkHtml;\n",
              "        element.appendChild(docLink);\n",
              "      }\n",
              "    </script>\n",
              "  </div>\n",
              "\n",
              "\n",
              "<div id=\"df-b7821c7c-82ac-4c25-8e0e-10c5a9c44e4a\">\n",
              "  <button class=\"colab-df-quickchart\" onclick=\"quickchart('df-b7821c7c-82ac-4c25-8e0e-10c5a9c44e4a')\"\n",
              "            title=\"Suggest charts\"\n",
              "            style=\"display:none;\">\n",
              "\n",
              "<svg xmlns=\"http://www.w3.org/2000/svg\" height=\"24px\"viewBox=\"0 0 24 24\"\n",
              "     width=\"24px\">\n",
              "    <g>\n",
              "        <path d=\"M19 3H5c-1.1 0-2 .9-2 2v14c0 1.1.9 2 2 2h14c1.1 0 2-.9 2-2V5c0-1.1-.9-2-2-2zM9 17H7v-7h2v7zm4 0h-2V7h2v10zm4 0h-2v-4h2v4z\"/>\n",
              "    </g>\n",
              "</svg>\n",
              "  </button>\n",
              "\n",
              "<style>\n",
              "  .colab-df-quickchart {\n",
              "      --bg-color: #E8F0FE;\n",
              "      --fill-color: #1967D2;\n",
              "      --hover-bg-color: #E2EBFA;\n",
              "      --hover-fill-color: #174EA6;\n",
              "      --disabled-fill-color: #AAA;\n",
              "      --disabled-bg-color: #DDD;\n",
              "  }\n",
              "\n",
              "  [theme=dark] .colab-df-quickchart {\n",
              "      --bg-color: #3B4455;\n",
              "      --fill-color: #D2E3FC;\n",
              "      --hover-bg-color: #434B5C;\n",
              "      --hover-fill-color: #FFFFFF;\n",
              "      --disabled-bg-color: #3B4455;\n",
              "      --disabled-fill-color: #666;\n",
              "  }\n",
              "\n",
              "  .colab-df-quickchart {\n",
              "    background-color: var(--bg-color);\n",
              "    border: none;\n",
              "    border-radius: 50%;\n",
              "    cursor: pointer;\n",
              "    display: none;\n",
              "    fill: var(--fill-color);\n",
              "    height: 32px;\n",
              "    padding: 0;\n",
              "    width: 32px;\n",
              "  }\n",
              "\n",
              "  .colab-df-quickchart:hover {\n",
              "    background-color: var(--hover-bg-color);\n",
              "    box-shadow: 0 1px 2px rgba(60, 64, 67, 0.3), 0 1px 3px 1px rgba(60, 64, 67, 0.15);\n",
              "    fill: var(--button-hover-fill-color);\n",
              "  }\n",
              "\n",
              "  .colab-df-quickchart-complete:disabled,\n",
              "  .colab-df-quickchart-complete:disabled:hover {\n",
              "    background-color: var(--disabled-bg-color);\n",
              "    fill: var(--disabled-fill-color);\n",
              "    box-shadow: none;\n",
              "  }\n",
              "\n",
              "  .colab-df-spinner {\n",
              "    border: 2px solid var(--fill-color);\n",
              "    border-color: transparent;\n",
              "    border-bottom-color: var(--fill-color);\n",
              "    animation:\n",
              "      spin 1s steps(1) infinite;\n",
              "  }\n",
              "\n",
              "  @keyframes spin {\n",
              "    0% {\n",
              "      border-color: transparent;\n",
              "      border-bottom-color: var(--fill-color);\n",
              "      border-left-color: var(--fill-color);\n",
              "    }\n",
              "    20% {\n",
              "      border-color: transparent;\n",
              "      border-left-color: var(--fill-color);\n",
              "      border-top-color: var(--fill-color);\n",
              "    }\n",
              "    30% {\n",
              "      border-color: transparent;\n",
              "      border-left-color: var(--fill-color);\n",
              "      border-top-color: var(--fill-color);\n",
              "      border-right-color: var(--fill-color);\n",
              "    }\n",
              "    40% {\n",
              "      border-color: transparent;\n",
              "      border-right-color: var(--fill-color);\n",
              "      border-top-color: var(--fill-color);\n",
              "    }\n",
              "    60% {\n",
              "      border-color: transparent;\n",
              "      border-right-color: var(--fill-color);\n",
              "    }\n",
              "    80% {\n",
              "      border-color: transparent;\n",
              "      border-right-color: var(--fill-color);\n",
              "      border-bottom-color: var(--fill-color);\n",
              "    }\n",
              "    90% {\n",
              "      border-color: transparent;\n",
              "      border-bottom-color: var(--fill-color);\n",
              "    }\n",
              "  }\n",
              "</style>\n",
              "\n",
              "  <script>\n",
              "    async function quickchart(key) {\n",
              "      const quickchartButtonEl =\n",
              "        document.querySelector('#' + key + ' button');\n",
              "      quickchartButtonEl.disabled = true;  // To prevent multiple clicks.\n",
              "      quickchartButtonEl.classList.add('colab-df-spinner');\n",
              "      try {\n",
              "        const charts = await google.colab.kernel.invokeFunction(\n",
              "            'suggestCharts', [key], {});\n",
              "      } catch (error) {\n",
              "        console.error('Error during call to suggestCharts:', error);\n",
              "      }\n",
              "      quickchartButtonEl.classList.remove('colab-df-spinner');\n",
              "      quickchartButtonEl.classList.add('colab-df-quickchart-complete');\n",
              "    }\n",
              "    (() => {\n",
              "      let quickchartButtonEl =\n",
              "        document.querySelector('#df-b7821c7c-82ac-4c25-8e0e-10c5a9c44e4a button');\n",
              "      quickchartButtonEl.style.display =\n",
              "        google.colab.kernel.accessAllowed ? 'block' : 'none';\n",
              "    })();\n",
              "  </script>\n",
              "</div>\n",
              "\n",
              "    </div>\n",
              "  </div>\n"
            ],
            "application/vnd.google.colaboratory.intrinsic+json": {
              "type": "dataframe",
              "variable_name": "df"
            }
          },
          "metadata": {},
          "execution_count": 4
        }
      ],
      "source": [
        "df.head()"
      ]
    },
    {
      "cell_type": "code",
      "execution_count": 5,
      "id": "de51a3ee",
      "metadata": {
        "execution": {
          "iopub.execute_input": "2024-04-04T03:14:36.725312Z",
          "iopub.status.busy": "2024-04-04T03:14:36.724943Z",
          "iopub.status.idle": "2024-04-04T03:14:36.747550Z",
          "shell.execute_reply": "2024-04-04T03:14:36.746628Z"
        },
        "papermill": {
          "duration": 0.036806,
          "end_time": "2024-04-04T03:14:36.750581",
          "exception": false,
          "start_time": "2024-04-04T03:14:36.713775",
          "status": "completed"
        },
        "tags": [],
        "id": "de51a3ee",
        "colab": {
          "base_uri": "https://localhost:8080/",
          "height": 255
        },
        "outputId": "2c005408-81a0-477e-ba22-1e49159c6d91"
      },
      "outputs": [
        {
          "output_type": "execute_result",
          "data": {
            "text/plain": [
              "        Time        V1        V2        V3        V4        V5        V6  \\\n",
              "27814  34711  1.443955 -1.052462 -0.141721 -1.564017 -0.966274 -0.333886   \n",
              "27815  34711 -0.263364  0.931818  1.193111 -0.507924  0.862019  0.249381   \n",
              "27816  34712  0.976345 -1.024867  0.978714  0.639442 -1.413711  0.311635   \n",
              "27817  34712  1.464604 -0.437919 -0.018869 -1.057177 -0.154243  0.251215   \n",
              "27818     34       NaN       NaN       NaN       NaN       NaN       NaN   \n",
              "\n",
              "             V7        V8        V9  ...       V21       V22       V23  \\\n",
              "27814 -0.777060  0.023616 -2.168826  ... -0.479940 -1.165220  0.155226   \n",
              "27815  0.815449 -0.090801 -0.520583  ... -0.310112 -0.648621 -0.253746   \n",
              "27816 -0.909035  0.232423 -0.493025  ... -0.279978 -0.599463 -0.081403   \n",
              "27817 -0.584866 -0.025483 -0.841369  ... -0.148384 -0.454571 -0.019732   \n",
              "27818       NaN       NaN       NaN  ...       NaN       NaN       NaN   \n",
              "\n",
              "            V24       V25       V26       V27       V28  Amount  Class  \n",
              "27814 -0.409701  0.179672 -0.446258  0.004329  0.000060   32.39    0.0  \n",
              "27815 -1.030111 -0.046091  0.107328  0.101296 -0.124600    1.49    0.0  \n",
              "27816 -0.059427  0.202311 -0.405753  0.055109  0.052975  151.00    0.0  \n",
              "27817 -1.313689  0.379650 -0.368497  0.031746  0.007238    8.00    0.0  \n",
              "27818       NaN       NaN       NaN       NaN       NaN     NaN    NaN  \n",
              "\n",
              "[5 rows x 31 columns]"
            ],
            "text/html": [
              "\n",
              "  <div id=\"df-96b1042f-b00f-4090-b7ee-b4b19986dbde\" class=\"colab-df-container\">\n",
              "    <div>\n",
              "<style scoped>\n",
              "    .dataframe tbody tr th:only-of-type {\n",
              "        vertical-align: middle;\n",
              "    }\n",
              "\n",
              "    .dataframe tbody tr th {\n",
              "        vertical-align: top;\n",
              "    }\n",
              "\n",
              "    .dataframe thead th {\n",
              "        text-align: right;\n",
              "    }\n",
              "</style>\n",
              "<table border=\"1\" class=\"dataframe\">\n",
              "  <thead>\n",
              "    <tr style=\"text-align: right;\">\n",
              "      <th></th>\n",
              "      <th>Time</th>\n",
              "      <th>V1</th>\n",
              "      <th>V2</th>\n",
              "      <th>V3</th>\n",
              "      <th>V4</th>\n",
              "      <th>V5</th>\n",
              "      <th>V6</th>\n",
              "      <th>V7</th>\n",
              "      <th>V8</th>\n",
              "      <th>V9</th>\n",
              "      <th>...</th>\n",
              "      <th>V21</th>\n",
              "      <th>V22</th>\n",
              "      <th>V23</th>\n",
              "      <th>V24</th>\n",
              "      <th>V25</th>\n",
              "      <th>V26</th>\n",
              "      <th>V27</th>\n",
              "      <th>V28</th>\n",
              "      <th>Amount</th>\n",
              "      <th>Class</th>\n",
              "    </tr>\n",
              "  </thead>\n",
              "  <tbody>\n",
              "    <tr>\n",
              "      <th>27814</th>\n",
              "      <td>34711</td>\n",
              "      <td>1.443955</td>\n",
              "      <td>-1.052462</td>\n",
              "      <td>-0.141721</td>\n",
              "      <td>-1.564017</td>\n",
              "      <td>-0.966274</td>\n",
              "      <td>-0.333886</td>\n",
              "      <td>-0.777060</td>\n",
              "      <td>0.023616</td>\n",
              "      <td>-2.168826</td>\n",
              "      <td>...</td>\n",
              "      <td>-0.479940</td>\n",
              "      <td>-1.165220</td>\n",
              "      <td>0.155226</td>\n",
              "      <td>-0.409701</td>\n",
              "      <td>0.179672</td>\n",
              "      <td>-0.446258</td>\n",
              "      <td>0.004329</td>\n",
              "      <td>0.000060</td>\n",
              "      <td>32.39</td>\n",
              "      <td>0.0</td>\n",
              "    </tr>\n",
              "    <tr>\n",
              "      <th>27815</th>\n",
              "      <td>34711</td>\n",
              "      <td>-0.263364</td>\n",
              "      <td>0.931818</td>\n",
              "      <td>1.193111</td>\n",
              "      <td>-0.507924</td>\n",
              "      <td>0.862019</td>\n",
              "      <td>0.249381</td>\n",
              "      <td>0.815449</td>\n",
              "      <td>-0.090801</td>\n",
              "      <td>-0.520583</td>\n",
              "      <td>...</td>\n",
              "      <td>-0.310112</td>\n",
              "      <td>-0.648621</td>\n",
              "      <td>-0.253746</td>\n",
              "      <td>-1.030111</td>\n",
              "      <td>-0.046091</td>\n",
              "      <td>0.107328</td>\n",
              "      <td>0.101296</td>\n",
              "      <td>-0.124600</td>\n",
              "      <td>1.49</td>\n",
              "      <td>0.0</td>\n",
              "    </tr>\n",
              "    <tr>\n",
              "      <th>27816</th>\n",
              "      <td>34712</td>\n",
              "      <td>0.976345</td>\n",
              "      <td>-1.024867</td>\n",
              "      <td>0.978714</td>\n",
              "      <td>0.639442</td>\n",
              "      <td>-1.413711</td>\n",
              "      <td>0.311635</td>\n",
              "      <td>-0.909035</td>\n",
              "      <td>0.232423</td>\n",
              "      <td>-0.493025</td>\n",
              "      <td>...</td>\n",
              "      <td>-0.279978</td>\n",
              "      <td>-0.599463</td>\n",
              "      <td>-0.081403</td>\n",
              "      <td>-0.059427</td>\n",
              "      <td>0.202311</td>\n",
              "      <td>-0.405753</td>\n",
              "      <td>0.055109</td>\n",
              "      <td>0.052975</td>\n",
              "      <td>151.00</td>\n",
              "      <td>0.0</td>\n",
              "    </tr>\n",
              "    <tr>\n",
              "      <th>27817</th>\n",
              "      <td>34712</td>\n",
              "      <td>1.464604</td>\n",
              "      <td>-0.437919</td>\n",
              "      <td>-0.018869</td>\n",
              "      <td>-1.057177</td>\n",
              "      <td>-0.154243</td>\n",
              "      <td>0.251215</td>\n",
              "      <td>-0.584866</td>\n",
              "      <td>-0.025483</td>\n",
              "      <td>-0.841369</td>\n",
              "      <td>...</td>\n",
              "      <td>-0.148384</td>\n",
              "      <td>-0.454571</td>\n",
              "      <td>-0.019732</td>\n",
              "      <td>-1.313689</td>\n",
              "      <td>0.379650</td>\n",
              "      <td>-0.368497</td>\n",
              "      <td>0.031746</td>\n",
              "      <td>0.007238</td>\n",
              "      <td>8.00</td>\n",
              "      <td>0.0</td>\n",
              "    </tr>\n",
              "    <tr>\n",
              "      <th>27818</th>\n",
              "      <td>34</td>\n",
              "      <td>NaN</td>\n",
              "      <td>NaN</td>\n",
              "      <td>NaN</td>\n",
              "      <td>NaN</td>\n",
              "      <td>NaN</td>\n",
              "      <td>NaN</td>\n",
              "      <td>NaN</td>\n",
              "      <td>NaN</td>\n",
              "      <td>NaN</td>\n",
              "      <td>...</td>\n",
              "      <td>NaN</td>\n",
              "      <td>NaN</td>\n",
              "      <td>NaN</td>\n",
              "      <td>NaN</td>\n",
              "      <td>NaN</td>\n",
              "      <td>NaN</td>\n",
              "      <td>NaN</td>\n",
              "      <td>NaN</td>\n",
              "      <td>NaN</td>\n",
              "      <td>NaN</td>\n",
              "    </tr>\n",
              "  </tbody>\n",
              "</table>\n",
              "<p>5 rows × 31 columns</p>\n",
              "</div>\n",
              "    <div class=\"colab-df-buttons\">\n",
              "\n",
              "  <div class=\"colab-df-container\">\n",
              "    <button class=\"colab-df-convert\" onclick=\"convertToInteractive('df-96b1042f-b00f-4090-b7ee-b4b19986dbde')\"\n",
              "            title=\"Convert this dataframe to an interactive table.\"\n",
              "            style=\"display:none;\">\n",
              "\n",
              "  <svg xmlns=\"http://www.w3.org/2000/svg\" height=\"24px\" viewBox=\"0 -960 960 960\">\n",
              "    <path d=\"M120-120v-720h720v720H120Zm60-500h600v-160H180v160Zm220 220h160v-160H400v160Zm0 220h160v-160H400v160ZM180-400h160v-160H180v160Zm440 0h160v-160H620v160ZM180-180h160v-160H180v160Zm440 0h160v-160H620v160Z\"/>\n",
              "  </svg>\n",
              "    </button>\n",
              "\n",
              "  <style>\n",
              "    .colab-df-container {\n",
              "      display:flex;\n",
              "      gap: 12px;\n",
              "    }\n",
              "\n",
              "    .colab-df-convert {\n",
              "      background-color: #E8F0FE;\n",
              "      border: none;\n",
              "      border-radius: 50%;\n",
              "      cursor: pointer;\n",
              "      display: none;\n",
              "      fill: #1967D2;\n",
              "      height: 32px;\n",
              "      padding: 0 0 0 0;\n",
              "      width: 32px;\n",
              "    }\n",
              "\n",
              "    .colab-df-convert:hover {\n",
              "      background-color: #E2EBFA;\n",
              "      box-shadow: 0px 1px 2px rgba(60, 64, 67, 0.3), 0px 1px 3px 1px rgba(60, 64, 67, 0.15);\n",
              "      fill: #174EA6;\n",
              "    }\n",
              "\n",
              "    .colab-df-buttons div {\n",
              "      margin-bottom: 4px;\n",
              "    }\n",
              "\n",
              "    [theme=dark] .colab-df-convert {\n",
              "      background-color: #3B4455;\n",
              "      fill: #D2E3FC;\n",
              "    }\n",
              "\n",
              "    [theme=dark] .colab-df-convert:hover {\n",
              "      background-color: #434B5C;\n",
              "      box-shadow: 0px 1px 3px 1px rgba(0, 0, 0, 0.15);\n",
              "      filter: drop-shadow(0px 1px 2px rgba(0, 0, 0, 0.3));\n",
              "      fill: #FFFFFF;\n",
              "    }\n",
              "  </style>\n",
              "\n",
              "    <script>\n",
              "      const buttonEl =\n",
              "        document.querySelector('#df-96b1042f-b00f-4090-b7ee-b4b19986dbde button.colab-df-convert');\n",
              "      buttonEl.style.display =\n",
              "        google.colab.kernel.accessAllowed ? 'block' : 'none';\n",
              "\n",
              "      async function convertToInteractive(key) {\n",
              "        const element = document.querySelector('#df-96b1042f-b00f-4090-b7ee-b4b19986dbde');\n",
              "        const dataTable =\n",
              "          await google.colab.kernel.invokeFunction('convertToInteractive',\n",
              "                                                    [key], {});\n",
              "        if (!dataTable) return;\n",
              "\n",
              "        const docLinkHtml = 'Like what you see? Visit the ' +\n",
              "          '<a target=\"_blank\" href=https://colab.research.google.com/notebooks/data_table.ipynb>data table notebook</a>'\n",
              "          + ' to learn more about interactive tables.';\n",
              "        element.innerHTML = '';\n",
              "        dataTable['output_type'] = 'display_data';\n",
              "        await google.colab.output.renderOutput(dataTable, element);\n",
              "        const docLink = document.createElement('div');\n",
              "        docLink.innerHTML = docLinkHtml;\n",
              "        element.appendChild(docLink);\n",
              "      }\n",
              "    </script>\n",
              "  </div>\n",
              "\n",
              "\n",
              "<div id=\"df-442e0220-5271-47fd-8bab-1d8a2ac45b88\">\n",
              "  <button class=\"colab-df-quickchart\" onclick=\"quickchart('df-442e0220-5271-47fd-8bab-1d8a2ac45b88')\"\n",
              "            title=\"Suggest charts\"\n",
              "            style=\"display:none;\">\n",
              "\n",
              "<svg xmlns=\"http://www.w3.org/2000/svg\" height=\"24px\"viewBox=\"0 0 24 24\"\n",
              "     width=\"24px\">\n",
              "    <g>\n",
              "        <path d=\"M19 3H5c-1.1 0-2 .9-2 2v14c0 1.1.9 2 2 2h14c1.1 0 2-.9 2-2V5c0-1.1-.9-2-2-2zM9 17H7v-7h2v7zm4 0h-2V7h2v10zm4 0h-2v-4h2v4z\"/>\n",
              "    </g>\n",
              "</svg>\n",
              "  </button>\n",
              "\n",
              "<style>\n",
              "  .colab-df-quickchart {\n",
              "      --bg-color: #E8F0FE;\n",
              "      --fill-color: #1967D2;\n",
              "      --hover-bg-color: #E2EBFA;\n",
              "      --hover-fill-color: #174EA6;\n",
              "      --disabled-fill-color: #AAA;\n",
              "      --disabled-bg-color: #DDD;\n",
              "  }\n",
              "\n",
              "  [theme=dark] .colab-df-quickchart {\n",
              "      --bg-color: #3B4455;\n",
              "      --fill-color: #D2E3FC;\n",
              "      --hover-bg-color: #434B5C;\n",
              "      --hover-fill-color: #FFFFFF;\n",
              "      --disabled-bg-color: #3B4455;\n",
              "      --disabled-fill-color: #666;\n",
              "  }\n",
              "\n",
              "  .colab-df-quickchart {\n",
              "    background-color: var(--bg-color);\n",
              "    border: none;\n",
              "    border-radius: 50%;\n",
              "    cursor: pointer;\n",
              "    display: none;\n",
              "    fill: var(--fill-color);\n",
              "    height: 32px;\n",
              "    padding: 0;\n",
              "    width: 32px;\n",
              "  }\n",
              "\n",
              "  .colab-df-quickchart:hover {\n",
              "    background-color: var(--hover-bg-color);\n",
              "    box-shadow: 0 1px 2px rgba(60, 64, 67, 0.3), 0 1px 3px 1px rgba(60, 64, 67, 0.15);\n",
              "    fill: var(--button-hover-fill-color);\n",
              "  }\n",
              "\n",
              "  .colab-df-quickchart-complete:disabled,\n",
              "  .colab-df-quickchart-complete:disabled:hover {\n",
              "    background-color: var(--disabled-bg-color);\n",
              "    fill: var(--disabled-fill-color);\n",
              "    box-shadow: none;\n",
              "  }\n",
              "\n",
              "  .colab-df-spinner {\n",
              "    border: 2px solid var(--fill-color);\n",
              "    border-color: transparent;\n",
              "    border-bottom-color: var(--fill-color);\n",
              "    animation:\n",
              "      spin 1s steps(1) infinite;\n",
              "  }\n",
              "\n",
              "  @keyframes spin {\n",
              "    0% {\n",
              "      border-color: transparent;\n",
              "      border-bottom-color: var(--fill-color);\n",
              "      border-left-color: var(--fill-color);\n",
              "    }\n",
              "    20% {\n",
              "      border-color: transparent;\n",
              "      border-left-color: var(--fill-color);\n",
              "      border-top-color: var(--fill-color);\n",
              "    }\n",
              "    30% {\n",
              "      border-color: transparent;\n",
              "      border-left-color: var(--fill-color);\n",
              "      border-top-color: var(--fill-color);\n",
              "      border-right-color: var(--fill-color);\n",
              "    }\n",
              "    40% {\n",
              "      border-color: transparent;\n",
              "      border-right-color: var(--fill-color);\n",
              "      border-top-color: var(--fill-color);\n",
              "    }\n",
              "    60% {\n",
              "      border-color: transparent;\n",
              "      border-right-color: var(--fill-color);\n",
              "    }\n",
              "    80% {\n",
              "      border-color: transparent;\n",
              "      border-right-color: var(--fill-color);\n",
              "      border-bottom-color: var(--fill-color);\n",
              "    }\n",
              "    90% {\n",
              "      border-color: transparent;\n",
              "      border-bottom-color: var(--fill-color);\n",
              "    }\n",
              "  }\n",
              "</style>\n",
              "\n",
              "  <script>\n",
              "    async function quickchart(key) {\n",
              "      const quickchartButtonEl =\n",
              "        document.querySelector('#' + key + ' button');\n",
              "      quickchartButtonEl.disabled = true;  // To prevent multiple clicks.\n",
              "      quickchartButtonEl.classList.add('colab-df-spinner');\n",
              "      try {\n",
              "        const charts = await google.colab.kernel.invokeFunction(\n",
              "            'suggestCharts', [key], {});\n",
              "      } catch (error) {\n",
              "        console.error('Error during call to suggestCharts:', error);\n",
              "      }\n",
              "      quickchartButtonEl.classList.remove('colab-df-spinner');\n",
              "      quickchartButtonEl.classList.add('colab-df-quickchart-complete');\n",
              "    }\n",
              "    (() => {\n",
              "      let quickchartButtonEl =\n",
              "        document.querySelector('#df-442e0220-5271-47fd-8bab-1d8a2ac45b88 button');\n",
              "      quickchartButtonEl.style.display =\n",
              "        google.colab.kernel.accessAllowed ? 'block' : 'none';\n",
              "    })();\n",
              "  </script>\n",
              "</div>\n",
              "\n",
              "    </div>\n",
              "  </div>\n"
            ],
            "application/vnd.google.colaboratory.intrinsic+json": {
              "type": "dataframe"
            }
          },
          "metadata": {},
          "execution_count": 5
        }
      ],
      "source": [
        "df.tail()"
      ]
    },
    {
      "cell_type": "code",
      "execution_count": 6,
      "id": "7d18d120",
      "metadata": {
        "execution": {
          "iopub.execute_input": "2024-04-04T03:14:36.773539Z",
          "iopub.status.busy": "2024-04-04T03:14:36.773142Z",
          "iopub.status.idle": "2024-04-04T03:14:36.811408Z",
          "shell.execute_reply": "2024-04-04T03:14:36.810016Z"
        },
        "papermill": {
          "duration": 0.052348,
          "end_time": "2024-04-04T03:14:36.813915",
          "exception": false,
          "start_time": "2024-04-04T03:14:36.761567",
          "status": "completed"
        },
        "tags": [],
        "id": "7d18d120",
        "colab": {
          "base_uri": "https://localhost:8080/"
        },
        "outputId": "773f8bbd-c955-47d3-c77e-aea793acb446"
      },
      "outputs": [
        {
          "output_type": "stream",
          "name": "stdout",
          "text": [
            "<class 'pandas.core.frame.DataFrame'>\n",
            "RangeIndex: 27819 entries, 0 to 27818\n",
            "Data columns (total 31 columns):\n",
            " #   Column  Non-Null Count  Dtype  \n",
            "---  ------  --------------  -----  \n",
            " 0   Time    27819 non-null  int64  \n",
            " 1   V1      27818 non-null  float64\n",
            " 2   V2      27818 non-null  float64\n",
            " 3   V3      27818 non-null  float64\n",
            " 4   V4      27818 non-null  float64\n",
            " 5   V5      27818 non-null  float64\n",
            " 6   V6      27818 non-null  float64\n",
            " 7   V7      27818 non-null  float64\n",
            " 8   V8      27818 non-null  float64\n",
            " 9   V9      27818 non-null  float64\n",
            " 10  V10     27818 non-null  float64\n",
            " 11  V11     27818 non-null  float64\n",
            " 12  V12     27818 non-null  float64\n",
            " 13  V13     27818 non-null  float64\n",
            " 14  V14     27818 non-null  float64\n",
            " 15  V15     27818 non-null  float64\n",
            " 16  V16     27818 non-null  float64\n",
            " 17  V17     27818 non-null  float64\n",
            " 18  V18     27818 non-null  float64\n",
            " 19  V19     27818 non-null  float64\n",
            " 20  V20     27818 non-null  float64\n",
            " 21  V21     27818 non-null  float64\n",
            " 22  V22     27818 non-null  float64\n",
            " 23  V23     27818 non-null  float64\n",
            " 24  V24     27818 non-null  float64\n",
            " 25  V25     27818 non-null  float64\n",
            " 26  V26     27818 non-null  float64\n",
            " 27  V27     27818 non-null  float64\n",
            " 28  V28     27818 non-null  float64\n",
            " 29  Amount  27818 non-null  float64\n",
            " 30  Class   27818 non-null  float64\n",
            "dtypes: float64(30), int64(1)\n",
            "memory usage: 6.6 MB\n"
          ]
        }
      ],
      "source": [
        "df.info()"
      ]
    },
    {
      "cell_type": "code",
      "execution_count": 7,
      "id": "a5fad262",
      "metadata": {
        "execution": {
          "iopub.execute_input": "2024-04-04T03:14:36.837032Z",
          "iopub.status.busy": "2024-04-04T03:14:36.836650Z",
          "iopub.status.idle": "2024-04-04T03:14:36.857667Z",
          "shell.execute_reply": "2024-04-04T03:14:36.856545Z"
        },
        "papermill": {
          "duration": 0.035253,
          "end_time": "2024-04-04T03:14:36.859907",
          "exception": false,
          "start_time": "2024-04-04T03:14:36.824654",
          "status": "completed"
        },
        "tags": [],
        "id": "a5fad262",
        "colab": {
          "base_uri": "https://localhost:8080/"
        },
        "outputId": "19abada2-db22-4dda-bd2d-8f4063a768e5"
      },
      "outputs": [
        {
          "output_type": "execute_result",
          "data": {
            "text/plain": [
              "Time      0\n",
              "V1        1\n",
              "V2        1\n",
              "V3        1\n",
              "V4        1\n",
              "V5        1\n",
              "V6        1\n",
              "V7        1\n",
              "V8        1\n",
              "V9        1\n",
              "V10       1\n",
              "V11       1\n",
              "V12       1\n",
              "V13       1\n",
              "V14       1\n",
              "V15       1\n",
              "V16       1\n",
              "V17       1\n",
              "V18       1\n",
              "V19       1\n",
              "V20       1\n",
              "V21       1\n",
              "V22       1\n",
              "V23       1\n",
              "V24       1\n",
              "V25       1\n",
              "V26       1\n",
              "V27       1\n",
              "V28       1\n",
              "Amount    1\n",
              "Class     1\n",
              "dtype: int64"
            ]
          },
          "metadata": {},
          "execution_count": 7
        }
      ],
      "source": [
        "df.isnull().sum()"
      ]
    },
    {
      "cell_type": "code",
      "execution_count": 8,
      "id": "f29309cc",
      "metadata": {
        "execution": {
          "iopub.execute_input": "2024-04-04T03:14:36.883223Z",
          "iopub.status.busy": "2024-04-04T03:14:36.882835Z",
          "iopub.status.idle": "2024-04-04T03:14:37.730650Z",
          "shell.execute_reply": "2024-04-04T03:14:37.729514Z"
        },
        "papermill": {
          "duration": 0.862145,
          "end_time": "2024-04-04T03:14:37.732990",
          "exception": false,
          "start_time": "2024-04-04T03:14:36.870845",
          "status": "completed"
        },
        "tags": [],
        "id": "f29309cc",
        "colab": {
          "base_uri": "https://localhost:8080/",
          "height": 453
        },
        "outputId": "39b71ad3-0e23-4c59-bf69-99f56d7697c4"
      },
      "outputs": [
        {
          "output_type": "display_data",
          "data": {
            "text/plain": [
              "<Figure size 640x480 with 1 Axes>"
            ],
            "image/png": "[encoded data removed]"
          },
          "metadata": {}
        }
      ],
      "source": [
        "plt.scatter(x = 'Amount', y = 'Class', data = df)\n",
        "plt.xlabel('Amount', color = 'r', fontsize = 12)\n",
        "plt.ylabel('Class', color = 'r', fontsize = 12)\n",
        "plt.show()"
      ]
    },
    {
      "cell_type": "code",
      "execution_count": 9,
      "id": "957f64bd",
      "metadata": {
        "execution": {
          "iopub.execute_input": "2024-04-04T03:14:37.757075Z",
          "iopub.status.busy": "2024-04-04T03:14:37.756685Z",
          "iopub.status.idle": "2024-04-04T03:14:37.941256Z",
          "shell.execute_reply": "2024-04-04T03:14:37.940174Z"
        },
        "papermill": {
          "duration": 0.199456,
          "end_time": "2024-04-04T03:14:37.943685",
          "exception": false,
          "start_time": "2024-04-04T03:14:37.744229",
          "status": "completed"
        },
        "tags": [],
        "id": "957f64bd"
      },
      "outputs": [],
      "source": [
        "# sns.countplot(df['Class'])"
      ]
    },
    {
      "cell_type": "code",
      "execution_count": 10,
      "id": "a783acb6",
      "metadata": {
        "execution": {
          "iopub.execute_input": "2024-04-04T03:14:37.968711Z",
          "iopub.status.busy": "2024-04-04T03:14:37.968330Z",
          "iopub.status.idle": "2024-04-04T03:14:37.980881Z",
          "shell.execute_reply": "2024-04-04T03:14:37.979902Z"
        },
        "papermill": {
          "duration": 0.027546,
          "end_time": "2024-04-04T03:14:37.982997",
          "exception": false,
          "start_time": "2024-04-04T03:14:37.955451",
          "status": "completed"
        },
        "tags": [],
        "id": "a783acb6",
        "colab": {
          "base_uri": "https://localhost:8080/"
        },
        "outputId": "6ef5686a-b092-4f51-a760-620d645d1bcc"
      },
      "outputs": [
        {
          "output_type": "execute_result",
          "data": {
            "text/plain": [
              "Class\n",
              "0.0    27725\n",
              "1.0       93\n",
              "Name: count, dtype: int64"
            ]
          },
          "metadata": {},
          "execution_count": 10
        }
      ],
      "source": [
        "# distribution of legit transactions and fraudulent transactions\n",
        "df['Class'].value_counts()"
      ]
    },
    {
      "cell_type": "markdown",
      "id": "f691ba26",
      "metadata": {
        "papermill": {
          "duration": 0.011447,
          "end_time": "2024-04-04T03:14:38.006277",
          "exception": false,
          "start_time": "2024-04-04T03:14:37.994830",
          "status": "completed"
        },
        "tags": [],
        "id": "f691ba26"
      },
      "source": [
        "**This data set is highly unbalanced**\n",
        "\n",
        "0 --> Normal Transactions\n",
        "\n",
        "1 --> Fraudulent Transactions"
      ]
    },
    {
      "cell_type": "markdown",
      "id": "d02652bd",
      "metadata": {
        "papermill": {
          "duration": 0.011443,
          "end_time": "2024-04-04T03:14:38.029447",
          "exception": false,
          "start_time": "2024-04-04T03:14:38.018004",
          "status": "completed"
        },
        "tags": [],
        "id": "d02652bd"
      },
      "source": [
        "**Input Split**"
      ]
    },
    {
      "cell_type": "code",
      "execution_count": 11,
      "id": "c343c631",
      "metadata": {
        "execution": {
          "iopub.execute_input": "2024-04-04T03:14:38.054790Z",
          "iopub.status.busy": "2024-04-04T03:14:38.054411Z",
          "iopub.status.idle": "2024-04-04T03:14:38.089743Z",
          "shell.execute_reply": "2024-04-04T03:14:38.088706Z"
        },
        "papermill": {
          "duration": 0.051082,
          "end_time": "2024-04-04T03:14:38.092236",
          "exception": false,
          "start_time": "2024-04-04T03:14:38.041154",
          "status": "completed"
        },
        "tags": [],
        "id": "c343c631"
      },
      "outputs": [],
      "source": [
        "x = df.drop(columns = 'Class', axis = 1)\n",
        "y = df['Class']"
      ]
    },
    {
      "cell_type": "markdown",
      "id": "e54c96e0",
      "metadata": {
        "papermill": {
          "duration": 0.011468,
          "end_time": "2024-04-04T03:14:38.115703",
          "exception": false,
          "start_time": "2024-04-04T03:14:38.104235",
          "status": "completed"
        },
        "tags": [],
        "id": "e54c96e0"
      },
      "source": [
        "**standard Scaling**"
      ]
    },
    {
      "cell_type": "code",
      "execution_count": 12,
      "id": "27b3f118",
      "metadata": {
        "execution": {
          "iopub.execute_input": "2024-04-04T03:14:38.141597Z",
          "iopub.status.busy": "2024-04-04T03:14:38.141204Z",
          "iopub.status.idle": "2024-04-04T03:14:38.275343Z",
          "shell.execute_reply": "2024-04-04T03:14:38.274068Z"
        },
        "papermill": {
          "duration": 0.150469,
          "end_time": "2024-04-04T03:14:38.277974",
          "exception": false,
          "start_time": "2024-04-04T03:14:38.127505",
          "status": "completed"
        },
        "tags": [],
        "id": "27b3f118"
      },
      "outputs": [],
      "source": [
        "from sklearn.preprocessing import StandardScaler\n",
        "sc = StandardScaler()\n",
        "x_scaler = sc.fit_transform(x)"
      ]
    },
    {
      "cell_type": "code",
      "execution_count": 13,
      "id": "bc3405ff",
      "metadata": {
        "execution": {
          "iopub.execute_input": "2024-04-04T03:14:38.303300Z",
          "iopub.status.busy": "2024-04-04T03:14:38.302917Z",
          "iopub.status.idle": "2024-04-04T03:14:38.309946Z",
          "shell.execute_reply": "2024-04-04T03:14:38.308979Z"
        },
        "papermill": {
          "duration": 0.022265,
          "end_time": "2024-04-04T03:14:38.312077",
          "exception": false,
          "start_time": "2024-04-04T03:14:38.289812",
          "status": "completed"
        },
        "tags": [],
        "id": "bc3405ff",
        "colab": {
          "base_uri": "https://localhost:8080/"
        },
        "outputId": "21add08d-e9fc-425f-dc5d-24dd0f76b2da"
      },
      "outputs": [
        {
          "output_type": "execute_result",
          "data": {
            "text/plain": [
              "array([[-1.72213913, -0.61209923, -0.14371113, ...,  0.30511756,\n",
              "        -0.09017387,  0.32926709],\n",
              "       [-1.72213913,  0.75490387,  0.07555646, ..., -0.05683234,\n",
              "         0.03831571, -0.33966828],\n",
              "       [-1.72205485, -0.61132078, -0.96362742, ..., -0.17457707,\n",
              "        -0.22915589,  1.37202866],\n",
              "       ...,\n",
              "       [ 1.20323221,  0.63944758, -0.75965055, ...,  0.10591342,\n",
              "         0.17568863,  0.33554988],\n",
              "       [ 1.20323221,  0.90102249, -0.37993246, ...,  0.04658927,\n",
              "         0.01143136, -0.31549318],\n",
              "       [-1.71927376,         nan,         nan, ...,         nan,\n",
              "                nan,         nan]])"
            ]
          },
          "metadata": {},
          "execution_count": 13
        }
      ],
      "source": [
        "x_scaler"
      ]
    },
    {
      "cell_type": "markdown",
      "id": "1ca4973c",
      "metadata": {
        "papermill": {
          "duration": 0.011531,
          "end_time": "2024-04-04T03:14:38.335725",
          "exception": false,
          "start_time": "2024-04-04T03:14:38.324194",
          "status": "completed"
        },
        "tags": [],
        "id": "1ca4973c"
      },
      "source": [
        "**Model Training**"
      ]
    },
    {
      "cell_type": "markdown",
      "id": "47072a2d",
      "metadata": {
        "papermill": {
          "duration": 0.011568,
          "end_time": "2024-04-04T03:14:38.359094",
          "exception": false,
          "start_time": "2024-04-04T03:14:38.347526",
          "status": "completed"
        },
        "tags": [],
        "id": "47072a2d"
      },
      "source": [
        "**Split the data into training data and testing data**"
      ]
    },
    {
      "cell_type": "code",
      "source": [
        "import pandas as pd\n",
        "\n",
        "# Load the data into a Pandas DataFrame\n",
        "df = pd.DataFrame(y)\n",
        "\n",
        "# Check for missing values\n",
        "df.isnull().sum()"
      ],
      "metadata": {
        "id": "ewVaBOVik4iy",
        "colab": {
          "base_uri": "https://localhost:8080/"
        },
        "outputId": "510785e5-978a-4f7e-f695-e26e5caadebe"
      },
      "id": "ewVaBOVik4iy",
      "execution_count": 14,
      "outputs": [
        {
          "output_type": "execute_result",
          "data": {
            "text/plain": [
              "Class    1\n",
              "dtype: int64"
            ]
          },
          "metadata": {},
          "execution_count": 14
        }
      ]
    },
    {
      "cell_type": "code",
      "source": [
        "# Drop rows with missing values\n",
        "df.dropna(inplace=True)\n",
        "\n",
        "# Reset the index\n",
        "df.reset_index(drop=True, inplace=True)\n",
        "\n",
        "# Extract the cleaned data\n",
        "y = df.values.ravel()"
      ],
      "metadata": {
        "id": "Foz75SSqk7xh"
      },
      "id": "Foz75SSqk7xh",
      "execution_count": 15,
      "outputs": []
    },
    {
      "cell_type": "code",
      "source": [
        "print(x_scaler.shape)\n",
        "print(y.shape)"
      ],
      "metadata": {
        "id": "LyI3MKUolO7M",
        "colab": {
          "base_uri": "https://localhost:8080/"
        },
        "outputId": "307625a1-194b-4047-a72d-7cceefda0d98"
      },
      "id": "LyI3MKUolO7M",
      "execution_count": 16,
      "outputs": [
        {
          "output_type": "stream",
          "name": "stdout",
          "text": [
            "(27819, 30)\n",
            "(27818,)\n"
          ]
        }
      ]
    },
    {
      "cell_type": "code",
      "source": [
        "# If x_scaler has more rows than y, drop the extra rows\n",
        "if x_scaler.shape[0] > y.shape[0]:\n",
        "    x_scaler = x_scaler[:y.shape[0]]\n",
        "\n",
        "# If y has more rows than x_scaler, drop the extra rows\n",
        "elif y.shape[0] > x_scaler.shape[0]:\n",
        "    y = y[:x_scaler.shape[0]]"
      ],
      "metadata": {
        "id": "oX87xRKDlQbc"
      },
      "id": "oX87xRKDlQbc",
      "execution_count": 17,
      "outputs": []
    },
    {
      "cell_type": "code",
      "source": [
        "from sklearn.model_selection import train_test_split\n",
        "\n",
        "x_train, x_test, y_train, y_test = train_test_split(x_scaler, y, test_size=0.25, stratify=y, random_state=42)"
      ],
      "metadata": {
        "id": "40qtMfo0lB_e"
      },
      "id": "40qtMfo0lB_e",
      "execution_count": 18,
      "outputs": []
    },
    {
      "cell_type": "code",
      "execution_count": 19,
      "id": "3b1d629c",
      "metadata": {
        "execution": {
          "iopub.execute_input": "2024-04-04T03:14:38.384380Z",
          "iopub.status.busy": "2024-04-04T03:14:38.383981Z",
          "iopub.status.idle": "2024-04-04T03:14:38.590486Z",
          "shell.execute_reply": "2024-04-04T03:14:38.589472Z"
        },
        "papermill": {
          "duration": 0.222231,
          "end_time": "2024-04-04T03:14:38.593136",
          "exception": false,
          "start_time": "2024-04-04T03:14:38.370905",
          "status": "completed"
        },
        "tags": [],
        "id": "3b1d629c"
      },
      "outputs": [],
      "source": [
        "from sklearn.model_selection import train_test_split\n",
        "from sklearn.metrics import classification_report, f1_score\n",
        "x_train,x_test, y_train, y_test = train_test_split(x_scaler,y , test_size = 0.25, stratify = y, random_state = 42)"
      ]
    },
    {
      "cell_type": "code",
      "execution_count": 20,
      "id": "f1ef6d03",
      "metadata": {
        "execution": {
          "iopub.execute_input": "2024-04-04T03:14:38.619008Z",
          "iopub.status.busy": "2024-04-04T03:14:38.618045Z",
          "iopub.status.idle": "2024-04-04T03:14:38.622768Z",
          "shell.execute_reply": "2024-04-04T03:14:38.621831Z"
        },
        "papermill": {
          "duration": 0.020016,
          "end_time": "2024-04-04T03:14:38.624999",
          "exception": false,
          "start_time": "2024-04-04T03:14:38.604983",
          "status": "completed"
        },
        "tags": [],
        "id": "f1ef6d03"
      },
      "outputs": [],
      "source": [
        "model =  LogisticRegression()\n"
      ]
    },
    {
      "cell_type": "code",
      "execution_count": 21,
      "id": "5410865c",
      "metadata": {
        "execution": {
          "iopub.execute_input": "2024-04-04T03:14:38.650612Z",
          "iopub.status.busy": "2024-04-04T03:14:38.649916Z",
          "iopub.status.idle": "2024-04-04T03:14:40.582603Z",
          "shell.execute_reply": "2024-04-04T03:14:40.581500Z"
        },
        "papermill": {
          "duration": 1.948658,
          "end_time": "2024-04-04T03:14:40.585590",
          "exception": false,
          "start_time": "2024-04-04T03:14:38.636932",
          "status": "completed"
        },
        "tags": [],
        "id": "5410865c",
        "colab": {
          "base_uri": "https://localhost:8080/",
          "height": 223
        },
        "outputId": "1cbaa85e-6d7e-43cf-d5c1-c62f9d886a17"
      },
      "outputs": [
        {
          "output_type": "stream",
          "name": "stderr",
          "text": [
            "/usr/local/lib/python3.10/dist-packages/sklearn/linear_model/_logistic.py:444: ConvergenceWarning: lbfgs failed to converge (status=1):\n",
            "STOP: TOTAL NO. of ITERATIONS REACHED LIMIT.\n",
            "\n",
            "Increase the number of iterations (max_iter) or scale the data as shown in:\n",
            "    https://scikit-learn.org/stable/modules/preprocessing.html\n",
            "Please also refer to the documentation for alternative solver options:\n",
            "    https://scikit-learn.org/stable/modules/linear_model.html#logistic-regression\n",
            "  n_iter_i = _check_optimize_result(\n"
          ]
        },
        {
          "output_type": "execute_result",
          "data": {
            "text/plain": [
              "LogisticRegression()"
            ],
            "text/html": [
              "<style>#sk-container-id-1 {color: black;background-color: white;}#sk-container-id-1 pre{padding: 0;}#sk-container-id-1 div.sk-toggleable {background-color: white;}#sk-container-id-1 label.sk-toggleable__label {cursor: pointer;display: block;width: 100%;margin-bottom: 0;padding: 0.3em;box-sizing: border-box;text-align: center;}#sk-container-id-1 label.sk-toggleable__label-arrow:before {content: \"▸\";float: left;margin-right: 0.25em;color: #696969;}#sk-container-id-1 label.sk-toggleable__label-arrow:hover:before {color: black;}#sk-container-id-1 div.sk-estimator:hover label.sk-toggleable__label-arrow:before {color: black;}#sk-container-id-1 div.sk-toggleable__content {max-height: 0;max-width: 0;overflow: hidden;text-align: left;background-color: #f0f8ff;}#sk-container-id-1 div.sk-toggleable__content pre {margin: 0.2em;color: black;border-radius: 0.25em;background-color: #f0f8ff;}#sk-container-id-1 input.sk-toggleable__control:checked~div.sk-toggleable__content {max-height: 200px;max-width: 100%;overflow: auto;}#sk-container-id-1 input.sk-toggleable__control:checked~label.sk-toggleable__label-arrow:before {content: \"▾\";}#sk-container-id-1 div.sk-estimator input.sk-toggleable__control:checked~label.sk-toggleable__label {background-color: #d4ebff;}#sk-container-id-1 div.sk-label input.sk-toggleable__control:checked~label.sk-toggleable__label {background-color: #d4ebff;}#sk-container-id-1 input.sk-hidden--visually {border: 0;clip: rect(1px 1px 1px 1px);clip: rect(1px, 1px, 1px, 1px);height: 1px;margin: -1px;overflow: hidden;padding: 0;position: absolute;width: 1px;}#sk-container-id-1 div.sk-estimator {font-family: monospace;background-color: #f0f8ff;border: 1px dotted black;border-radius: 0.25em;box-sizing: border-box;margin-bottom: 0.5em;}#sk-container-id-1 div.sk-estimator:hover {background-color: #d4ebff;}#sk-container-id-1 div.sk-parallel-item::after {content: \"\";width: 100%;border-bottom: 1px solid gray;flex-grow: 1;}#sk-container-id-1 div.sk-label:hover label.sk-toggleable__label {background-color: #d4ebff;}#sk-container-id-1 div.sk-serial::before {content: \"\";position: absolute;border-left: 1px solid gray;box-sizing: border-box;top: 0;bottom: 0;left: 50%;z-index: 0;}#sk-container-id-1 div.sk-serial {display: flex;flex-direction: column;align-items: center;background-color: white;padding-right: 0.2em;padding-left: 0.2em;position: relative;}#sk-container-id-1 div.sk-item {position: relative;z-index: 1;}#sk-container-id-1 div.sk-parallel {display: flex;align-items: stretch;justify-content: center;background-color: white;position: relative;}#sk-container-id-1 div.sk-item::before, #sk-container-id-1 div.sk-parallel-item::before {content: \"\";position: absolute;border-left: 1px solid gray;box-sizing: border-box;top: 0;bottom: 0;left: 50%;z-index: -1;}#sk-container-id-1 div.sk-parallel-item {display: flex;flex-direction: column;z-index: 1;position: relative;background-color: white;}#sk-container-id-1 div.sk-parallel-item:first-child::after {align-self: flex-end;width: 50%;}#sk-container-id-1 div.sk-parallel-item:last-child::after {align-self: flex-start;width: 50%;}#sk-container-id-1 div.sk-parallel-item:only-child::after {width: 0;}#sk-container-id-1 div.sk-dashed-wrapped {border: 1px dashed gray;margin: 0 0.4em 0.5em 0.4em;box-sizing: border-box;padding-bottom: 0.4em;background-color: white;}#sk-container-id-1 div.sk-label label {font-family: monospace;font-weight: bold;display: inline-block;line-height: 1.2em;}#sk-container-id-1 div.sk-label-container {text-align: center;}#sk-container-id-1 div.sk-container {/* jupyter's `normalize.less` sets `[hidden] { display: none; }` but bootstrap.min.css set `[hidden] { display: none !important; }` so we also need the `!important` here to be able to override the default hidden behavior on the sphinx rendered scikit-learn.org. See: https://github.com/scikit-learn/scikit-learn/issues/21755 */display: inline-block !important;position: relative;}#sk-container-id-1 div.sk-text-repr-fallback {display: none;}</style><div id=\"sk-container-id-1\" class=\"sk-top-container\"><div class=\"sk-text-repr-fallback\"><pre>LogisticRegression()</pre><b>In a Jupyter environment, please rerun this cell to show the HTML representation or trust the notebook. <br />On GitHub, the HTML representation is unable to render, please try loading this page with nbviewer.org.</b></div><div class=\"sk-container\" hidden><div class=\"sk-item\"><div class=\"sk-estimator sk-toggleable\"><input class=\"sk-toggleable__control sk-hidden--visually\" id=\"sk-estimator-id-1\" type=\"checkbox\" checked><label for=\"sk-estimator-id-1\" class=\"sk-toggleable__label sk-toggleable__label-arrow\">LogisticRegression</label><div class=\"sk-toggleable__content\"><pre>LogisticRegression()</pre></div></div></div></div></div>"
            ]
          },
          "metadata": {},
          "execution_count": 21
        }
      ],
      "source": [
        "#Training\n",
        "model.fit(x_train, y_train)\n"
      ]
    },
    {
      "cell_type": "code",
      "execution_count": 22,
      "id": "bd1378ed",
      "metadata": {
        "execution": {
          "iopub.execute_input": "2024-04-04T03:14:40.628735Z",
          "iopub.status.busy": "2024-04-04T03:14:40.628215Z",
          "iopub.status.idle": "2024-04-04T03:14:40.641236Z",
          "shell.execute_reply": "2024-04-04T03:14:40.640019Z"
        },
        "papermill": {
          "duration": 0.038577,
          "end_time": "2024-04-04T03:14:40.644807",
          "exception": false,
          "start_time": "2024-04-04T03:14:40.606230",
          "status": "completed"
        },
        "tags": [],
        "id": "bd1378ed"
      },
      "outputs": [],
      "source": [
        "# Testing\n",
        "y_pred = model.predict(x_test)"
      ]
    },
    {
      "cell_type": "code",
      "execution_count": 23,
      "id": "f4ad5f4f",
      "metadata": {
        "execution": {
          "iopub.execute_input": "2024-04-04T03:14:40.769778Z",
          "iopub.status.busy": "2024-04-04T03:14:40.769362Z",
          "iopub.status.idle": "2024-04-04T03:14:40.872161Z",
          "shell.execute_reply": "2024-04-04T03:14:40.871065Z"
        },
        "papermill": {
          "duration": 0.119446,
          "end_time": "2024-04-04T03:14:40.874292",
          "exception": false,
          "start_time": "2024-04-04T03:14:40.754846",
          "status": "completed"
        },
        "tags": [],
        "id": "f4ad5f4f",
        "colab": {
          "base_uri": "https://localhost:8080/"
        },
        "outputId": "f5e17da6-5280-4092-949a-1da6da29f521"
      },
      "outputs": [
        {
          "output_type": "stream",
          "name": "stdout",
          "text": [
            "              precision    recall  f1-score   support\n",
            "\n",
            "         0.0       1.00      1.00      1.00      6932\n",
            "         1.0       0.58      0.65      0.61        23\n",
            "\n",
            "    accuracy                           1.00      6955\n",
            "   macro avg       0.79      0.83      0.81      6955\n",
            "weighted avg       1.00      1.00      1.00      6955\n",
            "\n"
          ]
        }
      ],
      "source": [
        "print (classification_report(y_test, y_pred))"
      ]
    },
    {
      "cell_type": "code",
      "execution_count": 24,
      "id": "8f95d364",
      "metadata": {
        "execution": {
          "iopub.execute_input": "2024-04-04T03:14:40.901597Z",
          "iopub.status.busy": "2024-04-04T03:14:40.900472Z",
          "iopub.status.idle": "2024-04-04T03:14:40.929772Z",
          "shell.execute_reply": "2024-04-04T03:14:40.928498Z"
        },
        "papermill": {
          "duration": 0.045367,
          "end_time": "2024-04-04T03:14:40.932347",
          "exception": false,
          "start_time": "2024-04-04T03:14:40.886980",
          "status": "completed"
        },
        "tags": [],
        "id": "8f95d364",
        "colab": {
          "base_uri": "https://localhost:8080/"
        },
        "outputId": "87a99420-3ab3-42cf-b4c2-0fe39f585a05"
      },
      "outputs": [
        {
          "output_type": "stream",
          "name": "stdout",
          "text": [
            "f1_score :-  0.6122448979591837\n"
          ]
        }
      ],
      "source": [
        "print(\"f1_score :- \", f1_score(y_test,y_pred))"
      ]
    },
    {
      "cell_type": "code",
      "execution_count": 25,
      "id": "cf496513",
      "metadata": {
        "execution": {
          "iopub.execute_input": "2024-04-04T03:14:40.960022Z",
          "iopub.status.busy": "2024-04-04T03:14:40.959303Z",
          "iopub.status.idle": "2024-04-04T03:14:41.105001Z",
          "shell.execute_reply": "2024-04-04T03:14:41.103798Z"
        },
        "papermill": {
          "duration": 0.162131,
          "end_time": "2024-04-04T03:14:41.107385",
          "exception": false,
          "start_time": "2024-04-04T03:14:40.945254",
          "status": "completed"
        },
        "tags": [],
        "id": "cf496513"
      },
      "outputs": [],
      "source": [
        "from sklearn.ensemble import RandomForestClassifier"
      ]
    },
    {
      "cell_type": "code",
      "execution_count": 26,
      "id": "0b78618c",
      "metadata": {
        "execution": {
          "iopub.execute_input": "2024-04-04T03:14:41.134782Z",
          "iopub.status.busy": "2024-04-04T03:14:41.133773Z",
          "iopub.status.idle": "2024-04-04T03:14:41.138331Z",
          "shell.execute_reply": "2024-04-04T03:14:41.137473Z"
        },
        "papermill": {
          "duration": 0.020741,
          "end_time": "2024-04-04T03:14:41.140504",
          "exception": false,
          "start_time": "2024-04-04T03:14:41.119763",
          "status": "completed"
        },
        "tags": [],
        "id": "0b78618c"
      },
      "outputs": [],
      "source": [
        "model = RandomForestClassifier()"
      ]
    },
    {
      "cell_type": "code",
      "execution_count": 27,
      "id": "55f4246d",
      "metadata": {
        "execution": {
          "iopub.execute_input": "2024-04-04T03:14:41.167865Z",
          "iopub.status.busy": "2024-04-04T03:14:41.166925Z",
          "iopub.status.idle": "2024-04-04T03:19:21.373813Z",
          "shell.execute_reply": "2024-04-04T03:19:21.372627Z"
        },
        "papermill": {
          "duration": 280.236132,
          "end_time": "2024-04-04T03:19:21.389344",
          "exception": false,
          "start_time": "2024-04-04T03:14:41.153212",
          "status": "completed"
        },
        "tags": [],
        "id": "55f4246d",
        "colab": {
          "base_uri": "https://localhost:8080/",
          "height": 75
        },
        "outputId": "561b9c89-98e8-414c-e319-ad2360ee8e3d"
      },
      "outputs": [
        {
          "output_type": "execute_result",
          "data": {
            "text/plain": [
              "RandomForestClassifier()"
            ],
            "text/html": [
              "<style>#sk-container-id-2 {color: black;background-color: white;}#sk-container-id-2 pre{padding: 0;}#sk-container-id-2 div.sk-toggleable {background-color: white;}#sk-container-id-2 label.sk-toggleable__label {cursor: pointer;display: block;width: 100%;margin-bottom: 0;padding: 0.3em;box-sizing: border-box;text-align: center;}#sk-container-id-2 label.sk-toggleable__label-arrow:before {content: \"▸\";float: left;margin-right: 0.25em;color: #696969;}#sk-container-id-2 label.sk-toggleable__label-arrow:hover:before {color: black;}#sk-container-id-2 div.sk-estimator:hover label.sk-toggleable__label-arrow:before {color: black;}#sk-container-id-2 div.sk-toggleable__content {max-height: 0;max-width: 0;overflow: hidden;text-align: left;background-color: #f0f8ff;}#sk-container-id-2 div.sk-toggleable__content pre {margin: 0.2em;color: black;border-radius: 0.25em;background-color: #f0f8ff;}#sk-container-id-2 input.sk-toggleable__control:checked~div.sk-toggleable__content {max-height: 200px;max-width: 100%;overflow: auto;}#sk-container-id-2 input.sk-toggleable__control:checked~label.sk-toggleable__label-arrow:before {content: \"▾\";}#sk-container-id-2 div.sk-estimator input.sk-toggleable__control:checked~label.sk-toggleable__label {background-color: #d4ebff;}#sk-container-id-2 div.sk-label input.sk-toggleable__control:checked~label.sk-toggleable__label {background-color: #d4ebff;}#sk-container-id-2 input.sk-hidden--visually {border: 0;clip: rect(1px 1px 1px 1px);clip: rect(1px, 1px, 1px, 1px);height: 1px;margin: -1px;overflow: hidden;padding: 0;position: absolute;width: 1px;}#sk-container-id-2 div.sk-estimator {font-family: monospace;background-color: #f0f8ff;border: 1px dotted black;border-radius: 0.25em;box-sizing: border-box;margin-bottom: 0.5em;}#sk-container-id-2 div.sk-estimator:hover {background-color: #d4ebff;}#sk-container-id-2 div.sk-parallel-item::after {content: \"\";width: 100%;border-bottom: 1px solid gray;flex-grow: 1;}#sk-container-id-2 div.sk-label:hover label.sk-toggleable__label {background-color: #d4ebff;}#sk-container-id-2 div.sk-serial::before {content: \"\";position: absolute;border-left: 1px solid gray;box-sizing: border-box;top: 0;bottom: 0;left: 50%;z-index: 0;}#sk-container-id-2 div.sk-serial {display: flex;flex-direction: column;align-items: center;background-color: white;padding-right: 0.2em;padding-left: 0.2em;position: relative;}#sk-container-id-2 div.sk-item {position: relative;z-index: 1;}#sk-container-id-2 div.sk-parallel {display: flex;align-items: stretch;justify-content: center;background-color: white;position: relative;}#sk-container-id-2 div.sk-item::before, #sk-container-id-2 div.sk-parallel-item::before {content: \"\";position: absolute;border-left: 1px solid gray;box-sizing: border-box;top: 0;bottom: 0;left: 50%;z-index: -1;}#sk-container-id-2 div.sk-parallel-item {display: flex;flex-direction: column;z-index: 1;position: relative;background-color: white;}#sk-container-id-2 div.sk-parallel-item:first-child::after {align-self: flex-end;width: 50%;}#sk-container-id-2 div.sk-parallel-item:last-child::after {align-self: flex-start;width: 50%;}#sk-container-id-2 div.sk-parallel-item:only-child::after {width: 0;}#sk-container-id-2 div.sk-dashed-wrapped {border: 1px dashed gray;margin: 0 0.4em 0.5em 0.4em;box-sizing: border-box;padding-bottom: 0.4em;background-color: white;}#sk-container-id-2 div.sk-label label {font-family: monospace;font-weight: bold;display: inline-block;line-height: 1.2em;}#sk-container-id-2 div.sk-label-container {text-align: center;}#sk-container-id-2 div.sk-container {/* jupyter's `normalize.less` sets `[hidden] { display: none; }` but bootstrap.min.css set `[hidden] { display: none !important; }` so we also need the `!important` here to be able to override the default hidden behavior on the sphinx rendered scikit-learn.org. See: https://github.com/scikit-learn/scikit-learn/issues/21755 */display: inline-block !important;position: relative;}#sk-container-id-2 div.sk-text-repr-fallback {display: none;}</style><div id=\"sk-container-id-2\" class=\"sk-top-container\"><div class=\"sk-text-repr-fallback\"><pre>RandomForestClassifier()</pre><b>In a Jupyter environment, please rerun this cell to show the HTML representation or trust the notebook. <br />On GitHub, the HTML representation is unable to render, please try loading this page with nbviewer.org.</b></div><div class=\"sk-container\" hidden><div class=\"sk-item\"><div class=\"sk-estimator sk-toggleable\"><input class=\"sk-toggleable__control sk-hidden--visually\" id=\"sk-estimator-id-2\" type=\"checkbox\" checked><label for=\"sk-estimator-id-2\" class=\"sk-toggleable__label sk-toggleable__label-arrow\">RandomForestClassifier</label><div class=\"sk-toggleable__content\"><pre>RandomForestClassifier()</pre></div></div></div></div></div>"
            ]
          },
          "metadata": {},
          "execution_count": 27
        }
      ],
      "source": [
        "model.fit(x_train, y_train)"
      ]
    },
    {
      "cell_type": "code",
      "execution_count": 28,
      "id": "5f013b83",
      "metadata": {
        "execution": {
          "iopub.execute_input": "2024-04-04T03:19:21.416517Z",
          "iopub.status.busy": "2024-04-04T03:19:21.415803Z",
          "iopub.status.idle": "2024-04-04T03:19:22.151246Z",
          "shell.execute_reply": "2024-04-04T03:19:22.150139Z"
        },
        "papermill": {
          "duration": 0.751895,
          "end_time": "2024-04-04T03:19:22.153856",
          "exception": false,
          "start_time": "2024-04-04T03:19:21.401961",
          "status": "completed"
        },
        "tags": [],
        "id": "5f013b83"
      },
      "outputs": [],
      "source": [
        "# Testing\n",
        "y_pred = model.predict(x_test)"
      ]
    },
    {
      "cell_type": "code",
      "execution_count": 29,
      "id": "f4513df7",
      "metadata": {
        "execution": {
          "iopub.execute_input": "2024-04-04T03:19:22.180801Z",
          "iopub.status.busy": "2024-04-04T03:19:22.180411Z",
          "iopub.status.idle": "2024-04-04T03:19:22.284392Z",
          "shell.execute_reply": "2024-04-04T03:19:22.283087Z"
        },
        "papermill": {
          "duration": 0.12036,
          "end_time": "2024-04-04T03:19:22.286855",
          "exception": false,
          "start_time": "2024-04-04T03:19:22.166495",
          "status": "completed"
        },
        "tags": [],
        "id": "f4513df7",
        "colab": {
          "base_uri": "https://localhost:8080/"
        },
        "outputId": "49162171-c6af-4baa-c574-e277945ddb4a"
      },
      "outputs": [
        {
          "output_type": "stream",
          "name": "stdout",
          "text": [
            "              precision    recall  f1-score   support\n",
            "\n",
            "         0.0       1.00      1.00      1.00      6932\n",
            "         1.0       0.84      0.70      0.76        23\n",
            "\n",
            "    accuracy                           1.00      6955\n",
            "   macro avg       0.92      0.85      0.88      6955\n",
            "weighted avg       1.00      1.00      1.00      6955\n",
            "\n"
          ]
        }
      ],
      "source": [
        "print (classification_report(y_test, y_pred))"
      ]
    },
    {
      "cell_type": "code",
      "execution_count": 30,
      "id": "4268d09a",
      "metadata": {
        "execution": {
          "iopub.execute_input": "2024-04-04T03:19:22.314906Z",
          "iopub.status.busy": "2024-04-04T03:19:22.313754Z",
          "iopub.status.idle": "2024-04-04T03:19:22.342945Z",
          "shell.execute_reply": "2024-04-04T03:19:22.341805Z"
        },
        "papermill": {
          "duration": 0.045525,
          "end_time": "2024-04-04T03:19:22.345063",
          "exception": false,
          "start_time": "2024-04-04T03:19:22.299538",
          "status": "completed"
        },
        "tags": [],
        "id": "4268d09a",
        "colab": {
          "base_uri": "https://localhost:8080/"
        },
        "outputId": "fea9f319-77e5-4e12-ef34-a67fd44fbd0e"
      },
      "outputs": [
        {
          "output_type": "stream",
          "name": "stdout",
          "text": [
            "f1_score :-  0.761904761904762\n"
          ]
        }
      ],
      "source": [
        "print(\"f1_score :- \", f1_score(y_test,y_pred))"
      ]
    },
    {
      "cell_type": "markdown",
      "id": "d4dc9066",
      "metadata": {
        "papermill": {
          "duration": 0.012726,
          "end_time": "2024-04-04T03:19:22.370426",
          "exception": false,
          "start_time": "2024-04-04T03:19:22.357700",
          "status": "completed"
        },
        "tags": [],
        "id": "d4dc9066"
      },
      "source": [
        "\n",
        "\n",
        "\n",
        "#  **Balance the Class**"
      ]
    },
    {
      "cell_type": "code",
      "source": [
        "# !pip install scikit-learn==1.1.3\n",
        "from imblearn.over_sampling import SMOTE\n",
        "from sklearn.model_selection import train_test_split"
      ],
      "metadata": {
        "id": "-3cmi_w34_lw"
      },
      "id": "-3cmi_w34_lw",
      "execution_count": 31,
      "outputs": []
    },
    {
      "cell_type": "code",
      "source": [],
      "metadata": {
        "id": "TNr2fAQs5mkY"
      },
      "id": "TNr2fAQs5mkY",
      "execution_count": 32,
      "outputs": []
    },
    {
      "cell_type": "code",
      "source": [],
      "metadata": {
        "id": "dePPUS3c5_qo"
      },
      "id": "dePPUS3c5_qo",
      "execution_count": 32,
      "outputs": []
    },
    {
      "cell_type": "code",
      "source": [
        "from imblearn.over_sampling import SMOTE\n",
        "over_sample = SMOTE()\n",
        "x_smote, y_smote = over_sample.fit_resample(x_train, y_train)"
      ],
      "metadata": {
        "id": "535LzD356GgS"
      },
      "id": "535LzD356GgS",
      "execution_count": 33,
      "outputs": []
    },
    {
      "cell_type": "code",
      "source": [
        "from imblearn.over_sampling import SMOTE\n",
        "over_sample = SMOTE()\n",
        "x_smote, y_smote = over_sample.fit_resample(x_train, y_train)"
      ],
      "metadata": {
        "id": "o7LW5Yir5xC7"
      },
      "id": "o7LW5Yir5xC7",
      "execution_count": 34,
      "outputs": []
    },
    {
      "cell_type": "code",
      "source": [
        "from imblearn.over_sampling import SMOTE\n",
        "over_sample = SMOTE()\n",
        "x_smote, y_smote = over_sample.fit_resample(x_train, y_train)"
      ],
      "metadata": {
        "id": "-9JpGFwrtjO7"
      },
      "id": "-9JpGFwrtjO7",
      "execution_count": 35,
      "outputs": []
    },
    {
      "cell_type": "code",
      "execution_count": 36,
      "id": "cd27604d",
      "metadata": {
        "execution": {
          "iopub.execute_input": "2024-04-04T03:19:22.863559Z",
          "iopub.status.busy": "2024-04-04T03:19:22.862952Z",
          "iopub.status.idle": "2024-04-04T03:19:22.869729Z",
          "shell.execute_reply": "2024-04-04T03:19:22.868707Z"
        },
        "papermill": {
          "duration": 0.023087,
          "end_time": "2024-04-04T03:19:22.871853",
          "exception": false,
          "start_time": "2024-04-04T03:19:22.848766",
          "status": "completed"
        },
        "tags": [],
        "id": "cd27604d",
        "colab": {
          "base_uri": "https://localhost:8080/"
        },
        "outputId": "4f8a58cb-41fa-4622-8dc0-bd72b0c583df"
      },
      "outputs": [
        {
          "output_type": "execute_result",
          "data": {
            "text/plain": [
              "(41586, 30)"
            ]
          },
          "metadata": {},
          "execution_count": 36
        }
      ],
      "source": [
        "x_smote.shape"
      ]
    },
    {
      "cell_type": "code",
      "execution_count": 37,
      "id": "fb3a166a",
      "metadata": {
        "execution": {
          "iopub.execute_input": "2024-04-04T03:19:22.899614Z",
          "iopub.status.busy": "2024-04-04T03:19:22.898678Z",
          "iopub.status.idle": "2024-04-04T03:19:22.904379Z",
          "shell.execute_reply": "2024-04-04T03:19:22.903669Z"
        },
        "papermill": {
          "duration": 0.021533,
          "end_time": "2024-04-04T03:19:22.906156",
          "exception": false,
          "start_time": "2024-04-04T03:19:22.884623",
          "status": "completed"
        },
        "tags": [],
        "id": "fb3a166a",
        "colab": {
          "base_uri": "https://localhost:8080/"
        },
        "outputId": "a8e66103-6c61-4417-b18a-126d507044c6"
      },
      "outputs": [
        {
          "output_type": "execute_result",
          "data": {
            "text/plain": [
              "(41586,)"
            ]
          },
          "metadata": {},
          "execution_count": 37
        }
      ],
      "source": [
        "y_smote.shape"
      ]
    },
    {
      "cell_type": "code",
      "execution_count": 38,
      "id": "1ca81460",
      "metadata": {
        "execution": {
          "iopub.execute_input": "2024-04-04T03:19:22.934939Z",
          "iopub.status.busy": "2024-04-04T03:19:22.934218Z",
          "iopub.status.idle": "2024-04-04T03:19:22.938191Z",
          "shell.execute_reply": "2024-04-04T03:19:22.937417Z"
        },
        "papermill": {
          "duration": 0.020643,
          "end_time": "2024-04-04T03:19:22.940092",
          "exception": false,
          "start_time": "2024-04-04T03:19:22.919449",
          "status": "completed"
        },
        "tags": [],
        "id": "1ca81460"
      },
      "outputs": [],
      "source": [
        "model =  LogisticRegression()"
      ]
    },
    {
      "cell_type": "code",
      "execution_count": 39,
      "id": "43a307c0",
      "metadata": {
        "execution": {
          "iopub.execute_input": "2024-04-04T03:19:22.967850Z",
          "iopub.status.busy": "2024-04-04T03:19:22.967183Z",
          "iopub.status.idle": "2024-04-04T03:19:26.904435Z",
          "shell.execute_reply": "2024-04-04T03:19:26.903360Z"
        },
        "papermill": {
          "duration": 3.955162,
          "end_time": "2024-04-04T03:19:26.908315",
          "exception": false,
          "start_time": "2024-04-04T03:19:22.953153",
          "status": "completed"
        },
        "tags": [],
        "id": "43a307c0",
        "colab": {
          "base_uri": "https://localhost:8080/",
          "height": 223
        },
        "outputId": "36bcaba4-b5c9-4938-8aae-4045012dd1e9"
      },
      "outputs": [
        {
          "output_type": "stream",
          "name": "stderr",
          "text": [
            "/usr/local/lib/python3.10/dist-packages/sklearn/linear_model/_logistic.py:444: ConvergenceWarning: lbfgs failed to converge (status=1):\n",
            "STOP: TOTAL NO. of ITERATIONS REACHED LIMIT.\n",
            "\n",
            "Increase the number of iterations (max_iter) or scale the data as shown in:\n",
            "    https://scikit-learn.org/stable/modules/preprocessing.html\n",
            "Please also refer to the documentation for alternative solver options:\n",
            "    https://scikit-learn.org/stable/modules/linear_model.html#logistic-regression\n",
            "  n_iter_i = _check_optimize_result(\n"
          ]
        },
        {
          "output_type": "execute_result",
          "data": {
            "text/plain": [
              "LogisticRegression()"
            ],
            "text/html": [
              "<style>#sk-container-id-3 {color: black;background-color: white;}#sk-container-id-3 pre{padding: 0;}#sk-container-id-3 div.sk-toggleable {background-color: white;}#sk-container-id-3 label.sk-toggleable__label {cursor: pointer;display: block;width: 100%;margin-bottom: 0;padding: 0.3em;box-sizing: border-box;text-align: center;}#sk-container-id-3 label.sk-toggleable__label-arrow:before {content: \"▸\";float: left;margin-right: 0.25em;color: #696969;}#sk-container-id-3 label.sk-toggleable__label-arrow:hover:before {color: black;}#sk-container-id-3 div.sk-estimator:hover label.sk-toggleable__label-arrow:before {color: black;}#sk-container-id-3 div.sk-toggleable__content {max-height: 0;max-width: 0;overflow: hidden;text-align: left;background-color: #f0f8ff;}#sk-container-id-3 div.sk-toggleable__content pre {margin: 0.2em;color: black;border-radius: 0.25em;background-color: #f0f8ff;}#sk-container-id-3 input.sk-toggleable__control:checked~div.sk-toggleable__content {max-height: 200px;max-width: 100%;overflow: auto;}#sk-container-id-3 input.sk-toggleable__control:checked~label.sk-toggleable__label-arrow:before {content: \"▾\";}#sk-container-id-3 div.sk-estimator input.sk-toggleable__control:checked~label.sk-toggleable__label {background-color: #d4ebff;}#sk-container-id-3 div.sk-label input.sk-toggleable__control:checked~label.sk-toggleable__label {background-color: #d4ebff;}#sk-container-id-3 input.sk-hidden--visually {border: 0;clip: rect(1px 1px 1px 1px);clip: rect(1px, 1px, 1px, 1px);height: 1px;margin: -1px;overflow: hidden;padding: 0;position: absolute;width: 1px;}#sk-container-id-3 div.sk-estimator {font-family: monospace;background-color: #f0f8ff;border: 1px dotted black;border-radius: 0.25em;box-sizing: border-box;margin-bottom: 0.5em;}#sk-container-id-3 div.sk-estimator:hover {background-color: #d4ebff;}#sk-container-id-3 div.sk-parallel-item::after {content: \"\";width: 100%;border-bottom: 1px solid gray;flex-grow: 1;}#sk-container-id-3 div.sk-label:hover label.sk-toggleable__label {background-color: #d4ebff;}#sk-container-id-3 div.sk-serial::before {content: \"\";position: absolute;border-left: 1px solid gray;box-sizing: border-box;top: 0;bottom: 0;left: 50%;z-index: 0;}#sk-container-id-3 div.sk-serial {display: flex;flex-direction: column;align-items: center;background-color: white;padding-right: 0.2em;padding-left: 0.2em;position: relative;}#sk-container-id-3 div.sk-item {position: relative;z-index: 1;}#sk-container-id-3 div.sk-parallel {display: flex;align-items: stretch;justify-content: center;background-color: white;position: relative;}#sk-container-id-3 div.sk-item::before, #sk-container-id-3 div.sk-parallel-item::before {content: \"\";position: absolute;border-left: 1px solid gray;box-sizing: border-box;top: 0;bottom: 0;left: 50%;z-index: -1;}#sk-container-id-3 div.sk-parallel-item {display: flex;flex-direction: column;z-index: 1;position: relative;background-color: white;}#sk-container-id-3 div.sk-parallel-item:first-child::after {align-self: flex-end;width: 50%;}#sk-container-id-3 div.sk-parallel-item:last-child::after {align-self: flex-start;width: 50%;}#sk-container-id-3 div.sk-parallel-item:only-child::after {width: 0;}#sk-container-id-3 div.sk-dashed-wrapped {border: 1px dashed gray;margin: 0 0.4em 0.5em 0.4em;box-sizing: border-box;padding-bottom: 0.4em;background-color: white;}#sk-container-id-3 div.sk-label label {font-family: monospace;font-weight: bold;display: inline-block;line-height: 1.2em;}#sk-container-id-3 div.sk-label-container {text-align: center;}#sk-container-id-3 div.sk-container {/* jupyter's `normalize.less` sets `[hidden] { display: none; }` but bootstrap.min.css set `[hidden] { display: none !important; }` so we also need the `!important` here to be able to override the default hidden behavior on the sphinx rendered scikit-learn.org. See: https://github.com/scikit-learn/scikit-learn/issues/21755 */display: inline-block !important;position: relative;}#sk-container-id-3 div.sk-text-repr-fallback {display: none;}</style><div id=\"sk-container-id-3\" class=\"sk-top-container\"><div class=\"sk-text-repr-fallback\"><pre>LogisticRegression()</pre><b>In a Jupyter environment, please rerun this cell to show the HTML representation or trust the notebook. <br />On GitHub, the HTML representation is unable to render, please try loading this page with nbviewer.org.</b></div><div class=\"sk-container\" hidden><div class=\"sk-item\"><div class=\"sk-estimator sk-toggleable\"><input class=\"sk-toggleable__control sk-hidden--visually\" id=\"sk-estimator-id-3\" type=\"checkbox\" checked><label for=\"sk-estimator-id-3\" class=\"sk-toggleable__label sk-toggleable__label-arrow\">LogisticRegression</label><div class=\"sk-toggleable__content\"><pre>LogisticRegression()</pre></div></div></div></div></div>"
            ]
          },
          "metadata": {},
          "execution_count": 39
        }
      ],
      "source": [
        "model.fit(x_smote, y_smote)"
      ]
    },
    {
      "cell_type": "code",
      "execution_count": 40,
      "id": "6c612a93",
      "metadata": {
        "execution": {
          "iopub.execute_input": "2024-04-04T03:19:26.957633Z",
          "iopub.status.busy": "2024-04-04T03:19:26.957074Z",
          "iopub.status.idle": "2024-04-04T03:19:27.006434Z",
          "shell.execute_reply": "2024-04-04T03:19:27.005207Z"
        },
        "papermill": {
          "duration": 0.077288,
          "end_time": "2024-04-04T03:19:27.009778",
          "exception": false,
          "start_time": "2024-04-04T03:19:26.932490",
          "status": "completed"
        },
        "tags": [],
        "id": "6c612a93"
      },
      "outputs": [],
      "source": [
        "x_train_prediction = model.predict(x_train)\n",
        "training_data_accuracy = accuracy_score(x_train_prediction, y_train)"
      ]
    },
    {
      "cell_type": "code",
      "execution_count": 41,
      "id": "8fa123c2",
      "metadata": {
        "execution": {
          "iopub.execute_input": "2024-04-04T03:19:27.055521Z",
          "iopub.status.busy": "2024-04-04T03:19:27.054906Z",
          "iopub.status.idle": "2024-04-04T03:19:27.062812Z",
          "shell.execute_reply": "2024-04-04T03:19:27.061710Z"
        },
        "papermill": {
          "duration": 0.034262,
          "end_time": "2024-04-04T03:19:27.065822",
          "exception": false,
          "start_time": "2024-04-04T03:19:27.031560",
          "status": "completed"
        },
        "tags": [],
        "id": "8fa123c2",
        "colab": {
          "base_uri": "https://localhost:8080/"
        },
        "outputId": "cdb67813-dde2-4da6-8857-58a96663d100"
      },
      "outputs": [
        {
          "output_type": "execute_result",
          "data": {
            "text/plain": [
              "0.9915160811005129"
            ]
          },
          "metadata": {},
          "execution_count": 41
        }
      ],
      "source": [
        "training_data_accuracy"
      ]
    },
    {
      "cell_type": "code",
      "execution_count": 42,
      "id": "d161682b",
      "metadata": {
        "execution": {
          "iopub.execute_input": "2024-04-04T03:19:27.104812Z",
          "iopub.status.busy": "2024-04-04T03:19:27.104398Z",
          "iopub.status.idle": "2024-04-04T03:19:27.129531Z",
          "shell.execute_reply": "2024-04-04T03:19:27.128216Z"
        },
        "papermill": {
          "duration": 0.044709,
          "end_time": "2024-04-04T03:19:27.132798",
          "exception": false,
          "start_time": "2024-04-04T03:19:27.088089",
          "status": "completed"
        },
        "tags": [],
        "id": "d161682b",
        "colab": {
          "base_uri": "https://localhost:8080/"
        },
        "outputId": "d358b3e7-99cd-4b85-8ae3-328b06c9ef0a"
      },
      "outputs": [
        {
          "output_type": "execute_result",
          "data": {
            "text/plain": [
              "0.9919482386772106"
            ]
          },
          "metadata": {},
          "execution_count": 42
        }
      ],
      "source": [
        "x_test_prediction = model.predict(x_test)\n",
        "test_data_accuracy = accuracy_score(x_test_prediction, y_test)\n",
        "test_data_accuracy"
      ]
    },
    {
      "cell_type": "code",
      "execution_count": 43,
      "id": "0ddc43af",
      "metadata": {
        "execution": {
          "iopub.execute_input": "2024-04-04T03:19:27.181053Z",
          "iopub.status.busy": "2024-04-04T03:19:27.180310Z",
          "iopub.status.idle": "2024-04-04T03:19:27.309231Z",
          "shell.execute_reply": "2024-04-04T03:19:27.307912Z"
        },
        "papermill": {
          "duration": 0.155695,
          "end_time": "2024-04-04T03:19:27.311574",
          "exception": false,
          "start_time": "2024-04-04T03:19:27.155879",
          "status": "completed"
        },
        "tags": [],
        "id": "0ddc43af",
        "colab": {
          "base_uri": "https://localhost:8080/"
        },
        "outputId": "36eb555c-7aad-41c0-f5f0-82f70d4b138d"
      },
      "outputs": [
        {
          "output_type": "stream",
          "name": "stdout",
          "text": [
            "              precision    recall  f1-score   support\n",
            "\n",
            "         0.0       1.00      1.00      1.00      6932\n",
            "         1.0       0.84      0.70      0.76        23\n",
            "\n",
            "    accuracy                           1.00      6955\n",
            "   macro avg       0.92      0.85      0.88      6955\n",
            "weighted avg       1.00      1.00      1.00      6955\n",
            "\n"
          ]
        }
      ],
      "source": [
        "print (classification_report(y_test, y_pred))"
      ]
    },
    {
      "cell_type": "code",
      "execution_count": 44,
      "id": "0c3340b8",
      "metadata": {
        "execution": {
          "iopub.execute_input": "2024-04-04T03:19:27.340400Z",
          "iopub.status.busy": "2024-04-04T03:19:27.339986Z",
          "iopub.status.idle": "2024-04-04T03:19:27.368867Z",
          "shell.execute_reply": "2024-04-04T03:19:27.367455Z"
        },
        "papermill": {
          "duration": 0.046057,
          "end_time": "2024-04-04T03:19:27.371085",
          "exception": false,
          "start_time": "2024-04-04T03:19:27.325028",
          "status": "completed"
        },
        "tags": [],
        "id": "0c3340b8",
        "colab": {
          "base_uri": "https://localhost:8080/"
        },
        "outputId": "eaa41e05-ebc8-4877-98c7-8654abd4a9ea"
      },
      "outputs": [
        {
          "output_type": "stream",
          "name": "stdout",
          "text": [
            "f1_score :-  0.761904761904762\n"
          ]
        }
      ],
      "source": [
        "print(\"f1_score :- \", f1_score(y_test,y_pred))"
      ]
    },
    {
      "cell_type": "code",
      "execution_count": 45,
      "id": "c7d33d56",
      "metadata": {
        "execution": {
          "iopub.execute_input": "2024-04-04T03:19:27.401097Z",
          "iopub.status.busy": "2024-04-04T03:19:27.400716Z",
          "iopub.status.idle": "2024-04-04T03:19:27.406630Z",
          "shell.execute_reply": "2024-04-04T03:19:27.405821Z"
        },
        "papermill": {
          "duration": 0.023337,
          "end_time": "2024-04-04T03:19:27.408770",
          "exception": false,
          "start_time": "2024-04-04T03:19:27.385433",
          "status": "completed"
        },
        "tags": [],
        "id": "c7d33d56"
      },
      "outputs": [],
      "source": [
        "model = RandomForestClassifier()"
      ]
    },
    {
      "cell_type": "code",
      "execution_count": 46,
      "id": "31499e88",
      "metadata": {
        "execution": {
          "iopub.execute_input": "2024-04-04T03:19:27.438405Z",
          "iopub.status.busy": "2024-04-04T03:19:27.437646Z",
          "iopub.status.idle": "2024-04-04T03:27:27.233032Z",
          "shell.execute_reply": "2024-04-04T03:27:27.231849Z"
        },
        "papermill": {
          "duration": 479.827192,
          "end_time": "2024-04-04T03:27:27.249519",
          "exception": false,
          "start_time": "2024-04-04T03:19:27.422327",
          "status": "completed"
        },
        "tags": [],
        "id": "31499e88",
        "colab": {
          "base_uri": "https://localhost:8080/",
          "height": 75
        },
        "outputId": "2f45c8cf-d66d-4394-df4d-49d870cd0603"
      },
      "outputs": [
        {
          "output_type": "execute_result",
          "data": {
            "text/plain": [
              "RandomForestClassifier()"
            ],
            "text/html": [
              "<style>#sk-container-id-4 {color: black;background-color: white;}#sk-container-id-4 pre{padding: 0;}#sk-container-id-4 div.sk-toggleable {background-color: white;}#sk-container-id-4 label.sk-toggleable__label {cursor: pointer;display: block;width: 100%;margin-bottom: 0;padding: 0.3em;box-sizing: border-box;text-align: center;}#sk-container-id-4 label.sk-toggleable__label-arrow:before {content: \"▸\";float: left;margin-right: 0.25em;color: #696969;}#sk-container-id-4 label.sk-toggleable__label-arrow:hover:before {color: black;}#sk-container-id-4 div.sk-estimator:hover label.sk-toggleable__label-arrow:before {color: black;}#sk-container-id-4 div.sk-toggleable__content {max-height: 0;max-width: 0;overflow: hidden;text-align: left;background-color: #f0f8ff;}#sk-container-id-4 div.sk-toggleable__content pre {margin: 0.2em;color: black;border-radius: 0.25em;background-color: #f0f8ff;}#sk-container-id-4 input.sk-toggleable__control:checked~div.sk-toggleable__content {max-height: 200px;max-width: 100%;overflow: auto;}#sk-container-id-4 input.sk-toggleable__control:checked~label.sk-toggleable__label-arrow:before {content: \"▾\";}#sk-container-id-4 div.sk-estimator input.sk-toggleable__control:checked~label.sk-toggleable__label {background-color: #d4ebff;}#sk-container-id-4 div.sk-label input.sk-toggleable__control:checked~label.sk-toggleable__label {background-color: #d4ebff;}#sk-container-id-4 input.sk-hidden--visually {border: 0;clip: rect(1px 1px 1px 1px);clip: rect(1px, 1px, 1px, 1px);height: 1px;margin: -1px;overflow: hidden;padding: 0;position: absolute;width: 1px;}#sk-container-id-4 div.sk-estimator {font-family: monospace;background-color: #f0f8ff;border: 1px dotted black;border-radius: 0.25em;box-sizing: border-box;margin-bottom: 0.5em;}#sk-container-id-4 div.sk-estimator:hover {background-color: #d4ebff;}#sk-container-id-4 div.sk-parallel-item::after {content: \"\";width: 100%;border-bottom: 1px solid gray;flex-grow: 1;}#sk-container-id-4 div.sk-label:hover label.sk-toggleable__label {background-color: #d4ebff;}#sk-container-id-4 div.sk-serial::before {content: \"\";position: absolute;border-left: 1px solid gray;box-sizing: border-box;top: 0;bottom: 0;left: 50%;z-index: 0;}#sk-container-id-4 div.sk-serial {display: flex;flex-direction: column;align-items: center;background-color: white;padding-right: 0.2em;padding-left: 0.2em;position: relative;}#sk-container-id-4 div.sk-item {position: relative;z-index: 1;}#sk-container-id-4 div.sk-parallel {display: flex;align-items: stretch;justify-content: center;background-color: white;position: relative;}#sk-container-id-4 div.sk-item::before, #sk-container-id-4 div.sk-parallel-item::before {content: \"\";position: absolute;border-left: 1px solid gray;box-sizing: border-box;top: 0;bottom: 0;left: 50%;z-index: -1;}#sk-container-id-4 div.sk-parallel-item {display: flex;flex-direction: column;z-index: 1;position: relative;background-color: white;}#sk-container-id-4 div.sk-parallel-item:first-child::after {align-self: flex-end;width: 50%;}#sk-container-id-4 div.sk-parallel-item:last-child::after {align-self: flex-start;width: 50%;}#sk-container-id-4 div.sk-parallel-item:only-child::after {width: 0;}#sk-container-id-4 div.sk-dashed-wrapped {border: 1px dashed gray;margin: 0 0.4em 0.5em 0.4em;box-sizing: border-box;padding-bottom: 0.4em;background-color: white;}#sk-container-id-4 div.sk-label label {font-family: monospace;font-weight: bold;display: inline-block;line-height: 1.2em;}#sk-container-id-4 div.sk-label-container {text-align: center;}#sk-container-id-4 div.sk-container {/* jupyter's `normalize.less` sets `[hidden] { display: none; }` but bootstrap.min.css set `[hidden] { display: none !important; }` so we also need the `!important` here to be able to override the default hidden behavior on the sphinx rendered scikit-learn.org. See: https://github.com/scikit-learn/scikit-learn/issues/21755 */display: inline-block !important;position: relative;}#sk-container-id-4 div.sk-text-repr-fallback {display: none;}</style><div id=\"sk-container-id-4\" class=\"sk-top-container\"><div class=\"sk-text-repr-fallback\"><pre>RandomForestClassifier()</pre><b>In a Jupyter environment, please rerun this cell to show the HTML representation or trust the notebook. <br />On GitHub, the HTML representation is unable to render, please try loading this page with nbviewer.org.</b></div><div class=\"sk-container\" hidden><div class=\"sk-item\"><div class=\"sk-estimator sk-toggleable\"><input class=\"sk-toggleable__control sk-hidden--visually\" id=\"sk-estimator-id-4\" type=\"checkbox\" checked><label for=\"sk-estimator-id-4\" class=\"sk-toggleable__label sk-toggleable__label-arrow\">RandomForestClassifier</label><div class=\"sk-toggleable__content\"><pre>RandomForestClassifier()</pre></div></div></div></div></div>"
            ]
          },
          "metadata": {},
          "execution_count": 46
        }
      ],
      "source": [
        "model.fit(x_smote, y_smote)"
      ]
    },
    {
      "cell_type": "code",
      "execution_count": 47,
      "id": "57980d05",
      "metadata": {
        "execution": {
          "iopub.execute_input": "2024-04-04T03:27:27.280079Z",
          "iopub.status.busy": "2024-04-04T03:27:27.279279Z",
          "iopub.status.idle": "2024-04-04T03:27:28.101444Z",
          "shell.execute_reply": "2024-04-04T03:27:28.100274Z"
        },
        "papermill": {
          "duration": 0.840336,
          "end_time": "2024-04-04T03:27:28.104005",
          "exception": false,
          "start_time": "2024-04-04T03:27:27.263669",
          "status": "completed"
        },
        "tags": [],
        "id": "57980d05"
      },
      "outputs": [],
      "source": [
        "y_pred = model.predict(x_test)"
      ]
    },
    {
      "cell_type": "code",
      "execution_count": 48,
      "id": "f0329fa5",
      "metadata": {
        "execution": {
          "iopub.execute_input": "2024-04-04T03:27:28.134690Z",
          "iopub.status.busy": "2024-04-04T03:27:28.134255Z",
          "iopub.status.idle": "2024-04-04T03:27:30.563809Z",
          "shell.execute_reply": "2024-04-04T03:27:30.562755Z"
        },
        "papermill": {
          "duration": 2.448041,
          "end_time": "2024-04-04T03:27:30.565989",
          "exception": false,
          "start_time": "2024-04-04T03:27:28.117948",
          "status": "completed"
        },
        "tags": [],
        "id": "f0329fa5",
        "colab": {
          "base_uri": "https://localhost:8080/"
        },
        "outputId": "e8bd752f-fc0c-49be-e9c6-b372ee28185d"
      },
      "outputs": [
        {
          "output_type": "execute_result",
          "data": {
            "text/plain": [
              "1.0"
            ]
          },
          "metadata": {},
          "execution_count": 48
        }
      ],
      "source": [
        "x_train_prediction = model.predict(x_train)\n",
        "training_data_accuracy = accuracy_score(x_train_prediction, y_train)\n",
        "training_data_accuracy\n"
      ]
    },
    {
      "cell_type": "code",
      "execution_count": 49,
      "id": "b551b653",
      "metadata": {
        "execution": {
          "iopub.execute_input": "2024-04-04T03:27:30.595299Z",
          "iopub.status.busy": "2024-04-04T03:27:30.594546Z",
          "iopub.status.idle": "2024-04-04T03:27:31.404580Z",
          "shell.execute_reply": "2024-04-04T03:27:31.403336Z"
        },
        "papermill": {
          "duration": 0.827175,
          "end_time": "2024-04-04T03:27:31.406849",
          "exception": false,
          "start_time": "2024-04-04T03:27:30.579674",
          "status": "completed"
        },
        "tags": [],
        "id": "b551b653",
        "colab": {
          "base_uri": "https://localhost:8080/"
        },
        "outputId": "3990c112-c5d2-4e73-98b1-5e0da5c3aa02"
      },
      "outputs": [
        {
          "output_type": "execute_result",
          "data": {
            "text/plain": [
              "0.999137311286844"
            ]
          },
          "metadata": {},
          "execution_count": 49
        }
      ],
      "source": [
        "x_test_prediction = model.predict(x_test)\n",
        "test_data_accuracy = accuracy_score(x_test_prediction, y_test)\n",
        "test_data_accuracy"
      ]
    },
    {
      "cell_type": "code",
      "execution_count": 50,
      "id": "11cfa867",
      "metadata": {
        "execution": {
          "iopub.execute_input": "2024-04-04T03:27:31.436635Z",
          "iopub.status.busy": "2024-04-04T03:27:31.436246Z",
          "iopub.status.idle": "2024-04-04T03:27:31.539074Z",
          "shell.execute_reply": "2024-04-04T03:27:31.537888Z"
        },
        "papermill": {
          "duration": 0.120471,
          "end_time": "2024-04-04T03:27:31.541455",
          "exception": false,
          "start_time": "2024-04-04T03:27:31.420984",
          "status": "completed"
        },
        "tags": [],
        "id": "11cfa867",
        "colab": {
          "base_uri": "https://localhost:8080/"
        },
        "outputId": "4956a43f-f77e-4234-8832-a4a925b64052"
      },
      "outputs": [
        {
          "output_type": "stream",
          "name": "stdout",
          "text": [
            "              precision    recall  f1-score   support\n",
            "\n",
            "         0.0       1.00      1.00      1.00      6932\n",
            "         1.0       0.87      0.87      0.87        23\n",
            "\n",
            "    accuracy                           1.00      6955\n",
            "   macro avg       0.93      0.93      0.93      6955\n",
            "weighted avg       1.00      1.00      1.00      6955\n",
            "\n"
          ]
        }
      ],
      "source": [
        "print (classification_report(y_test, y_pred))"
      ]
    },
    {
      "cell_type": "code",
      "execution_count": 51,
      "id": "c2e99ee9",
      "metadata": {
        "execution": {
          "iopub.execute_input": "2024-04-04T03:27:31.572693Z",
          "iopub.status.busy": "2024-04-04T03:27:31.571660Z",
          "iopub.status.idle": "2024-04-04T03:27:31.601073Z",
          "shell.execute_reply": "2024-04-04T03:27:31.599743Z"
        },
        "papermill": {
          "duration": 0.04797,
          "end_time": "2024-04-04T03:27:31.603642",
          "exception": false,
          "start_time": "2024-04-04T03:27:31.555672",
          "status": "completed"
        },
        "tags": [],
        "id": "c2e99ee9",
        "colab": {
          "base_uri": "https://localhost:8080/"
        },
        "outputId": "11e2b09e-2182-4cb8-c381-e200f2f8e183"
      },
      "outputs": [
        {
          "output_type": "stream",
          "name": "stdout",
          "text": [
            "f1_score :-  0.8695652173913043\n"
          ]
        }
      ],
      "source": [
        "print(\"f1_score :- \", f1_score(y_test,y_pred))"
      ]
    },
    {
      "cell_type": "code",
      "execution_count": 53,
      "id": "1bfce6ab",
      "metadata": {
        "papermill": {
          "duration": 0.013652,
          "end_time": "2024-04-04T03:27:31.631422",
          "exception": false,
          "start_time": "2024-04-04T03:27:31.617770",
          "status": "completed"
        },
        "tags": [],
        "id": "1bfce6ab"
      },
      "outputs": [],
      "source": [
        "#Saving Model\n",
        "\n",
        "import pickle\n",
        "\n",
        "with open('model.pkl', 'wb') as f:\n",
        "    pickle.dump(model, f)\n"
      ]
    }
  ],
  "metadata": {
    "kaggle": {
      "accelerator": "none",
      "dataSources": [
        {
          "datasetId": 310,
          "sourceId": 23498,
          "sourceType": "datasetVersion"
        }
      ],
      "dockerImageVersionId": 30673,
      "isGpuEnabled": false,
      "isInternetEnabled": true,
      "language": "python",
      "sourceType": "notebook"
    },
    "kernelspec": {
      "display_name": "Python 3",
      "language": "python",
      "name": "python3"
    },
    "language_info": {
      "codemirror_mode": {
        "name": "ipython",
        "version": 3
      },
      "file_extension": ".py",
      "mimetype": "text/x-python",
      "name": "python",
      "nbconvert_exporter": "python",
      "pygments_lexer": "ipython3",
      "version": "3.10.13"
    },
    "papermill": {
      "default_parameters": {},
      "duration": 784.870625,
      "end_time": "2024-04-04T03:27:32.370208",
      "environment_variables": {},
      "exception": null,
      "input_path": "__notebook__.ipynb",
      "output_path": "__notebook__.ipynb",
      "parameters": {},
      "start_time": "2024-04-04T03:14:27.499583",
      "version": "2.5.0"
    },
    "colab": {
      "provenance": []
    }
  },
  "nbformat": 4,
  "nbformat_minor": 5
}